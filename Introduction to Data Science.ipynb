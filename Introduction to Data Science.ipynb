{
 "cells": [
  {
   "cell_type": "code",
   "execution_count": 394,
   "metadata": {},
   "outputs": [],
   "source": [
    "import pandas as pd\n",
    "import matplotlib.pyplot as plt\n",
    "import seaborn as sns  \n",
    "import numpy\n",
    "import numpy as np\n",
    "%matplotlib inline"
   ]
  },
  {
   "cell_type": "code",
   "execution_count": 395,
   "metadata": {},
   "outputs": [
    {
     "data": {
      "text/html": [
       "<div>\n",
       "<style scoped>\n",
       "    .dataframe tbody tr th:only-of-type {\n",
       "        vertical-align: middle;\n",
       "    }\n",
       "\n",
       "    .dataframe tbody tr th {\n",
       "        vertical-align: top;\n",
       "    }\n",
       "\n",
       "    .dataframe thead th {\n",
       "        text-align: right;\n",
       "    }\n",
       "</style>\n",
       "<table border=\"1\" class=\"dataframe\">\n",
       "  <thead>\n",
       "    <tr style=\"text-align: right;\">\n",
       "      <th></th>\n",
       "      <th>title</th>\n",
       "      <th>releaseDate</th>\n",
       "      <th>salesPercentage</th>\n",
       "      <th>sales</th>\n",
       "      <th>audience</th>\n",
       "      <th>screen</th>\n",
       "      <th>screening</th>\n",
       "      <th>nation</th>\n",
       "      <th>company</th>\n",
       "      <th>distributor</th>\n",
       "      <th>film rate</th>\n",
       "      <th>genre</th>\n",
       "      <th>directed_by</th>\n",
       "      <th>starring</th>\n",
       "    </tr>\n",
       "  </thead>\n",
       "  <tbody>\n",
       "    <tr>\n",
       "      <th>0</th>\n",
       "      <td>박하사탕</td>\n",
       "      <td>2000-01-01</td>\n",
       "      <td>0%</td>\n",
       "      <td>86832000</td>\n",
       "      <td>9759</td>\n",
       "      <td>35</td>\n",
       "      <td>812</td>\n",
       "      <td>한국</td>\n",
       "      <td>(주)이스트필름,파인하우스필름(주)</td>\n",
       "      <td>CGV아트하우스,(주)신도필림</td>\n",
       "      <td>18세관람가,청소년관람불가</td>\n",
       "      <td>드라마</td>\n",
       "      <td>이창동</td>\n",
       "      <td>설경구,문소리,김여진,이병철,공형진,이대연,최덕문,박길수,지대한,유승목,손영순,박성...</td>\n",
       "    </tr>\n",
       "    <tr>\n",
       "      <th>1</th>\n",
       "      <td>캅 랜드</td>\n",
       "      <td>2000-01-15</td>\n",
       "      <td>0%</td>\n",
       "      <td>366000</td>\n",
       "      <td>183</td>\n",
       "      <td>1</td>\n",
       "      <td>3</td>\n",
       "      <td>미국</td>\n",
       "      <td>NaN</td>\n",
       "      <td>NaN</td>\n",
       "      <td>12세관람가</td>\n",
       "      <td>범죄,스릴러,액션</td>\n",
       "      <td>제임스 맨골드</td>\n",
       "      <td>실베스터 스탤론,하비 케이틀,로버트 드 니로</td>\n",
       "    </tr>\n",
       "    <tr>\n",
       "      <th>2</th>\n",
       "      <td>13번째 전사</td>\n",
       "      <td>2000-01-29</td>\n",
       "      <td>0%</td>\n",
       "      <td>126000</td>\n",
       "      <td>63</td>\n",
       "      <td>1</td>\n",
       "      <td>1</td>\n",
       "      <td>미국</td>\n",
       "      <td>NaN</td>\n",
       "      <td>브에나비스타픽쳐스</td>\n",
       "      <td>18세관람가</td>\n",
       "      <td>사극,액션,어드벤처,판타지</td>\n",
       "      <td>존 맥티어난,마이클 크라이튼</td>\n",
       "      <td>안토니오 반데라스,블라디미르 쿨리치</td>\n",
       "    </tr>\n",
       "  </tbody>\n",
       "</table>\n",
       "</div>"
      ],
      "text/plain": [
       "     title releaseDate salesPercentage     sales  audience screen screening  \\\n",
       "0     박하사탕  2000-01-01              0%  86832000      9759     35       812   \n",
       "1     캅 랜드  2000-01-15              0%    366000       183      1         3   \n",
       "2  13번째 전사  2000-01-29              0%    126000        63      1         1   \n",
       "\n",
       "  nation              company       distributor       film rate  \\\n",
       "0     한국  (주)이스트필름,파인하우스필름(주)  CGV아트하우스,(주)신도필림  18세관람가,청소년관람불가   \n",
       "1     미국                  NaN               NaN          12세관람가   \n",
       "2     미국                  NaN         브에나비스타픽쳐스          18세관람가   \n",
       "\n",
       "            genre      directed_by  \\\n",
       "0             드라마              이창동   \n",
       "1       범죄,스릴러,액션          제임스 맨골드   \n",
       "2  사극,액션,어드벤처,판타지  존 맥티어난,마이클 크라이튼   \n",
       "\n",
       "                                            starring  \n",
       "0  설경구,문소리,김여진,이병철,공형진,이대연,최덕문,박길수,지대한,유승목,손영순,박성...  \n",
       "1                           실베스터 스탤론,하비 케이틀,로버트 드 니로  \n",
       "2                                안토니오 반데라스,블라디미르 쿨리치  "
      ]
     },
     "execution_count": 395,
     "metadata": {},
     "output_type": "execute_result"
    }
   ],
   "source": [
    "movie = pd.read_csv('data/movie_fin_fin.csv')\n",
    "movie.head(3)"
   ]
  },
  {
   "cell_type": "code",
   "execution_count": 396,
   "metadata": {},
   "outputs": [
    {
     "name": "stdout",
     "output_type": "stream",
     "text": [
      "<class 'pandas.core.frame.DataFrame'>\n",
      "RangeIndex: 4240 entries, 0 to 4239\n",
      "Data columns (total 14 columns):\n",
      "title              4240 non-null object\n",
      "releaseDate        4240 non-null object\n",
      "salesPercentage    4240 non-null object\n",
      "sales              4240 non-null int64\n",
      "audience           4240 non-null int64\n",
      "screen             4240 non-null object\n",
      "screening          4240 non-null object\n",
      "nation             4240 non-null object\n",
      "company            1531 non-null object\n",
      "distributor        4200 non-null object\n",
      "film rate          4225 non-null object\n",
      "genre              4189 non-null object\n",
      "directed_by        4109 non-null object\n",
      "starring           2389 non-null object\n",
      "dtypes: int64(2), object(12)\n",
      "memory usage: 265.1+ KB\n"
     ]
    }
   ],
   "source": [
    "movie.info()"
   ]
  },
  {
   "cell_type": "markdown",
   "metadata": {},
   "source": [
    "Data cleaning\n",
    "===\n",
    "\n",
    "## nation"
   ]
  },
  {
   "cell_type": "code",
   "execution_count": 397,
   "metadata": {},
   "outputs": [
    {
     "name": "stdout",
     "output_type": "stream",
     "text": [
      "unique nation: 53\n",
      "['한국' '미국' '일본' '이탈리아' '덴마크' '러시아' '독일' '대만' '영국' '프랑스' '이란' '홍콩' '스페인'\n",
      " '그리스' '헝가리' '벨기에' '네덜란드' '스웨덴' '아일랜드' '중국' '멕시코' '호주' '인도' '태국' '기타'\n",
      " '캐나다' '핀란드' '칠레' '오스트리아' '부탄' '팔레스타인' '터키' '에스토니아' '체코' '브라질' '노르웨이'\n",
      " '우크라이나' '말레이시아' '필리핀' '이스라엘' '아랍에미리트연합국정부' '마케도니아' '아르헨티나' '베네수엘라' '폴란드'\n",
      " '스위스' '아이슬란드' '크로아티아' '콜롬비아' '인도네시아' '싱가포르' '뉴질랜드' '베트남']\n"
     ]
    }
   ],
   "source": [
    "nation_unique = pd.unique(movie['nation'])\n",
    "print('unique nation:',len(nation_unique))\n",
    "print(nation_unique)"
   ]
  },
  {
   "cell_type": "code",
   "execution_count": 398,
   "metadata": {},
   "outputs": [],
   "source": [
    "movie['nation'] = np.where(movie['nation'] == \"베트남\", \"해외\", movie['nation'])\n",
    "movie['nation'] = np.where(movie['nation'] == \"필리핀\", \"해외\", movie['nation'])\n",
    "movie['nation'] = np.where(movie['nation'] == \"칠레\", \"해외\", movie['nation'])\n",
    "movie['nation'] = np.where(movie['nation'] == \"아랍에미리트연합국정부\", \"해외\", movie['nation'])\n",
    "movie['nation'] = np.where(movie['nation'] == \"마케도니아\", \"해외\", movie['nation'])\n",
    "movie['nation'] = np.where(movie['nation'] == \"베네수엘라\", \"해외\", movie['nation'])\n",
    "movie['nation'] = np.where(movie['nation'] == \"그리스\", \"해외\", movie['nation'])\n",
    "movie['nation'] = np.where(movie['nation'] == \"에스토니아\", \"해외\", movie['nation'])\n",
    "movie['nation'] = np.where(movie['nation'] == \"스위스\", \"해외\", movie['nation'])\n",
    "movie['nation'] = np.where(movie['nation'] == \"부탄\", \"기타\", movie['nation'])\n",
    "movie['nation'] = np.where(movie['nation'] == \"크로아티아\", \"해외\", movie['nation'])\n",
    "movie['nation'] = np.where(movie['nation'] == \"인도네시아\", \"해외\", movie['nation'])\n",
    "movie['nation'] = np.where(movie['nation'] == \"싱가포르\", \"해외\", movie['nation'])\n",
    "movie['nation'] = np.where(movie['nation'] == \"팔레스타인\", \"해외\", movie['nation'])\n",
    "movie['nation'] = np.where(movie['nation'] == \"기타\", \"해외\", movie['nation'])\n",
    "movie['nation'] = np.where(movie['nation'] == \"뉴질랜드\", \"해외\", movie['nation'])\n",
    "movie['nation'] = np.where(movie['nation'] == \"호주\", \"해외\", movie['nation'])\n",
    "movie['nation'] = np.where(movie['nation'] == \"터키\", \"해외\", movie['nation'])\n",
    "movie['nation'] = np.where(movie['nation'] == \"인도\", \"해외\", movie['nation'])\n",
    "movie['nation'] = np.where(movie['nation'] == \"태국\", \"해외\", movie['nation'])\n",
    "movie['nation'] = np.where(movie['nation'] == \"이스라엘\", \"해외\", movie['nation'])\n",
    "movie['nation'] = np.where(movie['nation'] == \"이란\", \"해외\", movie['nation'])\n",
    "movie['nation'] = np.where(movie['nation'] == \"말레이시아\", \"해외\", movie['nation'])\n",
    "movie['nation'] = np.where(movie['nation'] == \"홍콩\", \"해외\", movie['nation'])\n",
    "movie['nation'] = np.where(movie['nation'] == \"대만\", \"해외\", movie['nation'])\n",
    "movie['nation'] = np.where(movie['nation'] == \"우크라이나\", \"해외\", movie['nation'])\n",
    "movie['nation'] = np.where(movie['nation'] == \"네덜란드\", \"해외\", movie['nation'])\n",
    "movie['nation'] = np.where(movie['nation'] == \"아이슬란드\", \"해외\", movie['nation'])\n",
    "movie['nation'] = np.where(movie['nation'] == \"핀란드\", \"해외\", movie['nation'])\n",
    "movie['nation'] = np.where(movie['nation'] == \"노르웨이\", \"해외\", movie['nation'])\n",
    "movie['nation'] = np.where(movie['nation'] == \"체코\", \"해외\", movie['nation'])\n",
    "movie['nation'] = np.where(movie['nation'] == \"폴란드\", \"해외\", movie['nation'])\n",
    "movie['nation'] = np.where(movie['nation'] == \"스웨덴\", \"해외\", movie['nation'])\n",
    "movie['nation'] = np.where(movie['nation'] == \"오스트리아\", \"해외\", movie['nation'])\n",
    "movie['nation'] = np.where(movie['nation'] == \"벨기에\", \"해외\", movie['nation'])\n",
    "movie['nation'] = np.where(movie['nation'] == \"헝가리\", \"해외\", movie['nation'])\n",
    "movie['nation'] = np.where(movie['nation'] == \"덴마크\", \"해외\", movie['nation'])\n",
    "movie['nation'] = np.where(movie['nation'] == \"독일\", \"해외\", movie['nation'])\n",
    "movie['nation'] = np.where(movie['nation'] == \"러시아\", \"해외\", movie['nation'])\n",
    "movie['nation'] = np.where(movie['nation'] == \"스페인\", \"해외\", movie['nation'])\n",
    "movie['nation'] = np.where(movie['nation'] == \"이탈리아\", \"해외\", movie['nation'])\n",
    "movie['nation'] = np.where(movie['nation'] == \"아일랜드\", \"해외\", movie['nation'])\n",
    "movie['nation'] = np.where(movie['nation'] == \"멕시코\", \"해외\", movie['nation'])\n",
    "movie['nation'] = np.where(movie['nation'] == \"콜롬비아\", \"해외\", movie['nation'])\n",
    "movie['nation'] = np.where(movie['nation'] == \"아르헨티나\", \"해외\", movie['nation'])\n",
    "movie['nation'] = np.where(movie['nation'] == \"브라질\", \"해외\", movie['nation'])\n",
    "movie['nation'] = np.where(movie['nation'] == \"캐나다\", \"해외\", movie['nation'])\n",
    "movie['nation'] = np.where(movie['nation'] == \"일본\", \"해외\", movie['nation'])\n",
    "movie['nation'] = np.where(movie['nation'] == \"미국\", \"해외\", movie['nation'])\n",
    "movie['nation'] = np.where(movie['nation'] == \"프랑스\", \"해외\", movie['nation'])\n",
    "movie['nation'] = np.where(movie['nation'] == \"영국\", \"해외\", movie['nation'])\n",
    "movie['nation'] = np.where(movie['nation'] == \"중국\", \"해외\", movie['nation'])"
   ]
  },
  {
   "cell_type": "code",
   "execution_count": 399,
   "metadata": {},
   "outputs": [
    {
     "data": {
      "text/plain": [
       "Counter({'한국': 1464, '해외': 2776})"
      ]
     },
     "execution_count": 399,
     "metadata": {},
     "output_type": "execute_result"
    }
   ],
   "source": [
    "from collections import Counter\n",
    "Nation = Counter(movie['nation'])\n",
    "Nation"
   ]
  },
  {
   "cell_type": "code",
   "execution_count": 400,
   "metadata": {},
   "outputs": [],
   "source": [
    "movie['nation_type']  = 'na'"
   ]
  },
  {
   "cell_type": "code",
   "execution_count": 401,
   "metadata": {},
   "outputs": [],
   "source": [
    "movie['nation_type'] = movie.nation.map({'한국':0, '해외':1})"
   ]
  },
  {
   "cell_type": "code",
   "execution_count": 402,
   "metadata": {},
   "outputs": [
    {
     "data": {
      "text/html": [
       "<div>\n",
       "<style scoped>\n",
       "    .dataframe tbody tr th:only-of-type {\n",
       "        vertical-align: middle;\n",
       "    }\n",
       "\n",
       "    .dataframe tbody tr th {\n",
       "        vertical-align: top;\n",
       "    }\n",
       "\n",
       "    .dataframe thead th {\n",
       "        text-align: right;\n",
       "    }\n",
       "</style>\n",
       "<table border=\"1\" class=\"dataframe\">\n",
       "  <thead>\n",
       "    <tr style=\"text-align: right;\">\n",
       "      <th></th>\n",
       "      <th>title</th>\n",
       "      <th>releaseDate</th>\n",
       "      <th>salesPercentage</th>\n",
       "      <th>sales</th>\n",
       "      <th>audience</th>\n",
       "      <th>screen</th>\n",
       "      <th>screening</th>\n",
       "      <th>nation</th>\n",
       "      <th>company</th>\n",
       "      <th>distributor</th>\n",
       "      <th>film rate</th>\n",
       "      <th>genre</th>\n",
       "      <th>directed_by</th>\n",
       "      <th>starring</th>\n",
       "      <th>nation_type</th>\n",
       "    </tr>\n",
       "  </thead>\n",
       "  <tbody>\n",
       "    <tr>\n",
       "      <th>0</th>\n",
       "      <td>박하사탕</td>\n",
       "      <td>2000-01-01</td>\n",
       "      <td>0%</td>\n",
       "      <td>86832000</td>\n",
       "      <td>9759</td>\n",
       "      <td>35</td>\n",
       "      <td>812</td>\n",
       "      <td>한국</td>\n",
       "      <td>(주)이스트필름,파인하우스필름(주)</td>\n",
       "      <td>CGV아트하우스,(주)신도필림</td>\n",
       "      <td>18세관람가,청소년관람불가</td>\n",
       "      <td>드라마</td>\n",
       "      <td>이창동</td>\n",
       "      <td>설경구,문소리,김여진,이병철,공형진,이대연,최덕문,박길수,지대한,유승목,손영순,박성...</td>\n",
       "      <td>0</td>\n",
       "    </tr>\n",
       "    <tr>\n",
       "      <th>1</th>\n",
       "      <td>캅 랜드</td>\n",
       "      <td>2000-01-15</td>\n",
       "      <td>0%</td>\n",
       "      <td>366000</td>\n",
       "      <td>183</td>\n",
       "      <td>1</td>\n",
       "      <td>3</td>\n",
       "      <td>해외</td>\n",
       "      <td>NaN</td>\n",
       "      <td>NaN</td>\n",
       "      <td>12세관람가</td>\n",
       "      <td>범죄,스릴러,액션</td>\n",
       "      <td>제임스 맨골드</td>\n",
       "      <td>실베스터 스탤론,하비 케이틀,로버트 드 니로</td>\n",
       "      <td>1</td>\n",
       "    </tr>\n",
       "    <tr>\n",
       "      <th>2</th>\n",
       "      <td>13번째 전사</td>\n",
       "      <td>2000-01-29</td>\n",
       "      <td>0%</td>\n",
       "      <td>126000</td>\n",
       "      <td>63</td>\n",
       "      <td>1</td>\n",
       "      <td>1</td>\n",
       "      <td>해외</td>\n",
       "      <td>NaN</td>\n",
       "      <td>브에나비스타픽쳐스</td>\n",
       "      <td>18세관람가</td>\n",
       "      <td>사극,액션,어드벤처,판타지</td>\n",
       "      <td>존 맥티어난,마이클 크라이튼</td>\n",
       "      <td>안토니오 반데라스,블라디미르 쿨리치</td>\n",
       "      <td>1</td>\n",
       "    </tr>\n",
       "  </tbody>\n",
       "</table>\n",
       "</div>"
      ],
      "text/plain": [
       "     title releaseDate salesPercentage     sales  audience screen screening  \\\n",
       "0     박하사탕  2000-01-01              0%  86832000      9759     35       812   \n",
       "1     캅 랜드  2000-01-15              0%    366000       183      1         3   \n",
       "2  13번째 전사  2000-01-29              0%    126000        63      1         1   \n",
       "\n",
       "  nation              company       distributor       film rate  \\\n",
       "0     한국  (주)이스트필름,파인하우스필름(주)  CGV아트하우스,(주)신도필림  18세관람가,청소년관람불가   \n",
       "1     해외                  NaN               NaN          12세관람가   \n",
       "2     해외                  NaN         브에나비스타픽쳐스          18세관람가   \n",
       "\n",
       "            genre      directed_by  \\\n",
       "0             드라마              이창동   \n",
       "1       범죄,스릴러,액션          제임스 맨골드   \n",
       "2  사극,액션,어드벤처,판타지  존 맥티어난,마이클 크라이튼   \n",
       "\n",
       "                                            starring  nation_type  \n",
       "0  설경구,문소리,김여진,이병철,공형진,이대연,최덕문,박길수,지대한,유승목,손영순,박성...            0  \n",
       "1                           실베스터 스탤론,하비 케이틀,로버트 드 니로            1  \n",
       "2                                안토니오 반데라스,블라디미르 쿨리치            1  "
      ]
     },
     "execution_count": 402,
     "metadata": {},
     "output_type": "execute_result"
    }
   ],
   "source": [
    "movie.head(3)"
   ]
  },
  {
   "cell_type": "markdown",
   "metadata": {},
   "source": [
    "ADD Data\n",
    "===\n",
    "\n",
    "### Whether an actor, director, or movie has won an award"
   ]
  },
  {
   "cell_type": "code",
   "execution_count": 403,
   "metadata": {},
   "outputs": [],
   "source": [
    "director_award = pd.read_csv('data/director_name.csv')\n",
    "movie_award = pd.read_csv('data/movie_name.csv')\n",
    "actor_award = pd.read_csv('data/actor_name.csv')"
   ]
  },
  {
   "cell_type": "code",
   "execution_count": 404,
   "metadata": {},
   "outputs": [
    {
     "data": {
      "text/html": [
       "<div>\n",
       "<style scoped>\n",
       "    .dataframe tbody tr th:only-of-type {\n",
       "        vertical-align: middle;\n",
       "    }\n",
       "\n",
       "    .dataframe tbody tr th {\n",
       "        vertical-align: top;\n",
       "    }\n",
       "\n",
       "    .dataframe thead th {\n",
       "        text-align: right;\n",
       "    }\n",
       "</style>\n",
       "<table border=\"1\" class=\"dataframe\">\n",
       "  <thead>\n",
       "    <tr style=\"text-align: right;\">\n",
       "      <th></th>\n",
       "      <th>directed_by</th>\n",
       "      <th>award_directed</th>\n",
       "    </tr>\n",
       "  </thead>\n",
       "  <tbody>\n",
       "    <tr>\n",
       "      <th>0</th>\n",
       "      <td>레오폴드 린트베르크</td>\n",
       "      <td>1</td>\n",
       "    </tr>\n",
       "    <tr>\n",
       "      <th>1</th>\n",
       "      <td>장폴 르 샤누아</td>\n",
       "      <td>1</td>\n",
       "    </tr>\n",
       "    <tr>\n",
       "      <th>2</th>\n",
       "      <td>제임스 알가</td>\n",
       "      <td>1</td>\n",
       "    </tr>\n",
       "  </tbody>\n",
       "</table>\n",
       "</div>"
      ],
      "text/plain": [
       "  directed_by  award_directed\n",
       "0  레오폴드 린트베르크               1\n",
       "1    장폴 르 샤누아               1\n",
       "2      제임스 알가               1"
      ]
     },
     "execution_count": 404,
     "metadata": {},
     "output_type": "execute_result"
    }
   ],
   "source": [
    "director_award.head(3)"
   ]
  },
  {
   "cell_type": "code",
   "execution_count": 405,
   "metadata": {},
   "outputs": [
    {
     "data": {
      "text/html": [
       "<div>\n",
       "<style scoped>\n",
       "    .dataframe tbody tr th:only-of-type {\n",
       "        vertical-align: middle;\n",
       "    }\n",
       "\n",
       "    .dataframe tbody tr th {\n",
       "        vertical-align: top;\n",
       "    }\n",
       "\n",
       "    .dataframe thead th {\n",
       "        text-align: right;\n",
       "    }\n",
       "</style>\n",
       "<table border=\"1\" class=\"dataframe\">\n",
       "  <thead>\n",
       "    <tr style=\"text-align: right;\">\n",
       "      <th></th>\n",
       "      <th>title</th>\n",
       "      <th>award_title</th>\n",
       "    </tr>\n",
       "  </thead>\n",
       "  <tbody>\n",
       "    <tr>\n",
       "      <th>0</th>\n",
       "      <td>윙스</td>\n",
       "      <td>1</td>\n",
       "    </tr>\n",
       "    <tr>\n",
       "      <th>1</th>\n",
       "      <td>브로드웨이 멜로디</td>\n",
       "      <td>1</td>\n",
       "    </tr>\n",
       "    <tr>\n",
       "      <th>2</th>\n",
       "      <td>서부 전선 이상 없다</td>\n",
       "      <td>1</td>\n",
       "    </tr>\n",
       "  </tbody>\n",
       "</table>\n",
       "</div>"
      ],
      "text/plain": [
       "         title  award_title\n",
       "0           윙스            1\n",
       "1    브로드웨이 멜로디            1\n",
       "2  서부 전선 이상 없다            1"
      ]
     },
     "execution_count": 405,
     "metadata": {},
     "output_type": "execute_result"
    }
   ],
   "source": [
    "movie_award.head(3)"
   ]
  },
  {
   "cell_type": "code",
   "execution_count": 406,
   "metadata": {},
   "outputs": [
    {
     "data": {
      "text/html": [
       "<div>\n",
       "<style scoped>\n",
       "    .dataframe tbody tr th:only-of-type {\n",
       "        vertical-align: middle;\n",
       "    }\n",
       "\n",
       "    .dataframe tbody tr th {\n",
       "        vertical-align: top;\n",
       "    }\n",
       "\n",
       "    .dataframe thead th {\n",
       "        text-align: right;\n",
       "    }\n",
       "</style>\n",
       "<table border=\"1\" class=\"dataframe\">\n",
       "  <thead>\n",
       "    <tr style=\"text-align: right;\">\n",
       "      <th></th>\n",
       "      <th>actor</th>\n",
       "      <th>award_actor</th>\n",
       "    </tr>\n",
       "  </thead>\n",
       "  <tbody>\n",
       "    <tr>\n",
       "      <th>0</th>\n",
       "      <td>에밀 야닝스</td>\n",
       "      <td>1</td>\n",
       "    </tr>\n",
       "    <tr>\n",
       "      <th>1</th>\n",
       "      <td>워너 박스터</td>\n",
       "      <td>1</td>\n",
       "    </tr>\n",
       "    <tr>\n",
       "      <th>2</th>\n",
       "      <td>조지 아리스</td>\n",
       "      <td>1</td>\n",
       "    </tr>\n",
       "  </tbody>\n",
       "</table>\n",
       "</div>"
      ],
      "text/plain": [
       "    actor  award_actor\n",
       "0  에밀 야닝스            1\n",
       "1  워너 박스터            1\n",
       "2  조지 아리스            1"
      ]
     },
     "execution_count": 406,
     "metadata": {},
     "output_type": "execute_result"
    }
   ],
   "source": [
    "actor_award.head(3)"
   ]
  },
  {
   "cell_type": "code",
   "execution_count": 407,
   "metadata": {},
   "outputs": [],
   "source": [
    "director_award.directed_by = director_award.directed_by.str.strip()\n",
    "movie_award.title = movie_award.title.str.strip()\n",
    "actor_award.actor = actor_award.actor.str.strip()"
   ]
  },
  {
   "cell_type": "code",
   "execution_count": 444,
   "metadata": {},
   "outputs": [],
   "source": [
    "movies = pd.merge(movie, director_award, on = \"directed_by\", how='left')"
   ]
  },
  {
   "cell_type": "code",
   "execution_count": 445,
   "metadata": {},
   "outputs": [],
   "source": [
    "movies = pd.merge(movies, movie_award, on = \"title\", how='left')"
   ]
  },
  {
   "cell_type": "code",
   "execution_count": 446,
   "metadata": {},
   "outputs": [
    {
     "name": "stdout",
     "output_type": "stream",
     "text": [
      "<class 'pandas.core.frame.DataFrame'>\n",
      "Int64Index: 4258 entries, 0 to 4257\n",
      "Data columns (total 17 columns):\n",
      "title              4258 non-null object\n",
      "releaseDate        4258 non-null object\n",
      "salesPercentage    4258 non-null object\n",
      "sales              4258 non-null int64\n",
      "audience           4258 non-null int64\n",
      "screen             4258 non-null object\n",
      "screening          4258 non-null object\n",
      "nation             4258 non-null object\n",
      "company            1546 non-null object\n",
      "distributor        4218 non-null object\n",
      "film rate          4243 non-null object\n",
      "genre              4207 non-null object\n",
      "directed_by        4127 non-null object\n",
      "starring           2407 non-null object\n",
      "nation_type        4258 non-null int64\n",
      "award_directed     237 non-null float64\n",
      "award_title        76 non-null float64\n",
      "dtypes: float64(2), int64(3), object(12)\n",
      "memory usage: 399.2+ KB\n"
     ]
    }
   ],
   "source": [
    "movies.info()"
   ]
  },
  {
   "cell_type": "code",
   "execution_count": 447,
   "metadata": {},
   "outputs": [],
   "source": [
    "movies['award_directed'] = movies['award_directed'].fillna(\"0\")"
   ]
  },
  {
   "cell_type": "code",
   "execution_count": 448,
   "metadata": {},
   "outputs": [],
   "source": [
    "movies['award_title'] = movies['award_title'].fillna(\"0\")"
   ]
  },
  {
   "cell_type": "code",
   "execution_count": 449,
   "metadata": {},
   "outputs": [
    {
     "data": {
      "text/html": [
       "<div>\n",
       "<style scoped>\n",
       "    .dataframe tbody tr th:only-of-type {\n",
       "        vertical-align: middle;\n",
       "    }\n",
       "\n",
       "    .dataframe tbody tr th {\n",
       "        vertical-align: top;\n",
       "    }\n",
       "\n",
       "    .dataframe thead th {\n",
       "        text-align: right;\n",
       "    }\n",
       "</style>\n",
       "<table border=\"1\" class=\"dataframe\">\n",
       "  <thead>\n",
       "    <tr style=\"text-align: right;\">\n",
       "      <th></th>\n",
       "      <th>title</th>\n",
       "      <th>releaseDate</th>\n",
       "      <th>salesPercentage</th>\n",
       "      <th>sales</th>\n",
       "      <th>audience</th>\n",
       "      <th>screen</th>\n",
       "      <th>screening</th>\n",
       "      <th>nation</th>\n",
       "      <th>company</th>\n",
       "      <th>distributor</th>\n",
       "      <th>film rate</th>\n",
       "      <th>genre</th>\n",
       "      <th>directed_by</th>\n",
       "      <th>starring</th>\n",
       "      <th>nation_type</th>\n",
       "      <th>award_directed</th>\n",
       "      <th>award_title</th>\n",
       "    </tr>\n",
       "  </thead>\n",
       "  <tbody>\n",
       "    <tr>\n",
       "      <th>0</th>\n",
       "      <td>박하사탕</td>\n",
       "      <td>2000-01-01</td>\n",
       "      <td>0%</td>\n",
       "      <td>86832000</td>\n",
       "      <td>9759</td>\n",
       "      <td>35</td>\n",
       "      <td>812</td>\n",
       "      <td>한국</td>\n",
       "      <td>(주)이스트필름,파인하우스필름(주)</td>\n",
       "      <td>CGV아트하우스,(주)신도필림</td>\n",
       "      <td>18세관람가,청소년관람불가</td>\n",
       "      <td>드라마</td>\n",
       "      <td>이창동</td>\n",
       "      <td>설경구,문소리,김여진,이병철,공형진,이대연,최덕문,박길수,지대한,유승목,손영순,박성...</td>\n",
       "      <td>0</td>\n",
       "      <td>0</td>\n",
       "      <td>0</td>\n",
       "    </tr>\n",
       "    <tr>\n",
       "      <th>1</th>\n",
       "      <td>캅 랜드</td>\n",
       "      <td>2000-01-15</td>\n",
       "      <td>0%</td>\n",
       "      <td>366000</td>\n",
       "      <td>183</td>\n",
       "      <td>1</td>\n",
       "      <td>3</td>\n",
       "      <td>해외</td>\n",
       "      <td>NaN</td>\n",
       "      <td>NaN</td>\n",
       "      <td>12세관람가</td>\n",
       "      <td>범죄,스릴러,액션</td>\n",
       "      <td>제임스 맨골드</td>\n",
       "      <td>실베스터 스탤론,하비 케이틀,로버트 드 니로</td>\n",
       "      <td>1</td>\n",
       "      <td>0</td>\n",
       "      <td>0</td>\n",
       "    </tr>\n",
       "    <tr>\n",
       "      <th>2</th>\n",
       "      <td>13번째 전사</td>\n",
       "      <td>2000-01-29</td>\n",
       "      <td>0%</td>\n",
       "      <td>126000</td>\n",
       "      <td>63</td>\n",
       "      <td>1</td>\n",
       "      <td>1</td>\n",
       "      <td>해외</td>\n",
       "      <td>NaN</td>\n",
       "      <td>브에나비스타픽쳐스</td>\n",
       "      <td>18세관람가</td>\n",
       "      <td>사극,액션,어드벤처,판타지</td>\n",
       "      <td>존 맥티어난,마이클 크라이튼</td>\n",
       "      <td>안토니오 반데라스,블라디미르 쿨리치</td>\n",
       "      <td>1</td>\n",
       "      <td>0</td>\n",
       "      <td>0</td>\n",
       "    </tr>\n",
       "  </tbody>\n",
       "</table>\n",
       "</div>"
      ],
      "text/plain": [
       "     title releaseDate salesPercentage     sales  audience screen screening  \\\n",
       "0     박하사탕  2000-01-01              0%  86832000      9759     35       812   \n",
       "1     캅 랜드  2000-01-15              0%    366000       183      1         3   \n",
       "2  13번째 전사  2000-01-29              0%    126000        63      1         1   \n",
       "\n",
       "  nation              company       distributor       film rate  \\\n",
       "0     한국  (주)이스트필름,파인하우스필름(주)  CGV아트하우스,(주)신도필림  18세관람가,청소년관람불가   \n",
       "1     해외                  NaN               NaN          12세관람가   \n",
       "2     해외                  NaN         브에나비스타픽쳐스          18세관람가   \n",
       "\n",
       "            genre      directed_by  \\\n",
       "0             드라마              이창동   \n",
       "1       범죄,스릴러,액션          제임스 맨골드   \n",
       "2  사극,액션,어드벤처,판타지  존 맥티어난,마이클 크라이튼   \n",
       "\n",
       "                                            starring  nation_type  \\\n",
       "0  설경구,문소리,김여진,이병철,공형진,이대연,최덕문,박길수,지대한,유승목,손영순,박성...            0   \n",
       "1                           실베스터 스탤론,하비 케이틀,로버트 드 니로            1   \n",
       "2                                안토니오 반데라스,블라디미르 쿨리치            1   \n",
       "\n",
       "  award_directed award_title  \n",
       "0              0           0  \n",
       "1              0           0  \n",
       "2              0           0  "
      ]
     },
     "execution_count": 449,
     "metadata": {},
     "output_type": "execute_result"
    }
   ],
   "source": [
    "movies.head(3)"
   ]
  },
  {
   "cell_type": "code",
   "execution_count": 450,
   "metadata": {},
   "outputs": [],
   "source": [
    "actors = movies['starring'].str.split(\",\")"
   ]
  },
  {
   "cell_type": "code",
   "execution_count": 451,
   "metadata": {},
   "outputs": [
    {
     "data": {
      "text/plain": [
       "0       [설경구, 문소리, 김여진, 이병철, 공형진, 이대연, 최덕문, 박길수, 지대한, ...\n",
       "1                            [실베스터 스탤론, 하비 케이틀, 로버트 드 니로]\n",
       "2                                  [안토니오 반데라스, 블라디미르 쿨리치]\n",
       "3                          [배두나, 고수희, 이성재, 변희봉, 김호정, 김뢰하]\n",
       "4                                       [케빈 스페이시, 아네트 베닝]\n",
       "                              ...                        \n",
       "4253                                                  NaN\n",
       "4254                                                  NaN\n",
       "4255                                              [아베 칸나]\n",
       "4256                                             [코모리 아이]\n",
       "4257                                                  NaN\n",
       "Name: starring, Length: 4258, dtype: object"
      ]
     },
     "execution_count": 451,
     "metadata": {},
     "output_type": "execute_result"
    }
   ],
   "source": [
    "actors"
   ]
  },
  {
   "cell_type": "code",
   "execution_count": 452,
   "metadata": {},
   "outputs": [
    {
     "data": {
      "text/plain": [
       "0             설경구\n",
       "1        실베스터 스탤론\n",
       "2       안토니오 반데라스\n",
       "3             배두나\n",
       "4         케빈 스페이시\n",
       "          ...    \n",
       "4253          NaN\n",
       "4254          NaN\n",
       "4255        아베 칸나\n",
       "4256       코모리 아이\n",
       "4257          NaN\n",
       "Name: actor_1, Length: 4258, dtype: object"
      ]
     },
     "execution_count": 452,
     "metadata": {},
     "output_type": "execute_result"
    }
   ],
   "source": [
    "movies['actor_1'] = actors.str.get(0)\n",
    "movies['actor_1']"
   ]
  },
  {
   "cell_type": "code",
   "execution_count": 453,
   "metadata": {},
   "outputs": [
    {
     "data": {
      "text/plain": [
       "0             문소리\n",
       "1          하비 케이틀\n",
       "2       블라디미르 쿨리치\n",
       "3             고수희\n",
       "4          아네트 베닝\n",
       "          ...    \n",
       "4253          NaN\n",
       "4254          NaN\n",
       "4255          NaN\n",
       "4256          NaN\n",
       "4257          NaN\n",
       "Name: actor_2, Length: 4258, dtype: object"
      ]
     },
     "execution_count": 453,
     "metadata": {},
     "output_type": "execute_result"
    }
   ],
   "source": [
    "movies['actor_2'] = actors.str.get(1)\n",
    "movies['actor_2']"
   ]
  },
  {
   "cell_type": "code",
   "execution_count": 454,
   "metadata": {},
   "outputs": [
    {
     "data": {
      "text/html": [
       "<div>\n",
       "<style scoped>\n",
       "    .dataframe tbody tr th:only-of-type {\n",
       "        vertical-align: middle;\n",
       "    }\n",
       "\n",
       "    .dataframe tbody tr th {\n",
       "        vertical-align: top;\n",
       "    }\n",
       "\n",
       "    .dataframe thead th {\n",
       "        text-align: right;\n",
       "    }\n",
       "</style>\n",
       "<table border=\"1\" class=\"dataframe\">\n",
       "  <thead>\n",
       "    <tr style=\"text-align: right;\">\n",
       "      <th></th>\n",
       "      <th>title</th>\n",
       "      <th>releaseDate</th>\n",
       "      <th>salesPercentage</th>\n",
       "      <th>sales</th>\n",
       "      <th>audience</th>\n",
       "      <th>screen</th>\n",
       "      <th>screening</th>\n",
       "      <th>nation</th>\n",
       "      <th>company</th>\n",
       "      <th>distributor</th>\n",
       "      <th>film rate</th>\n",
       "      <th>genre</th>\n",
       "      <th>directed_by</th>\n",
       "      <th>starring</th>\n",
       "      <th>nation_type</th>\n",
       "      <th>award_directed</th>\n",
       "      <th>award_title</th>\n",
       "      <th>actor_1</th>\n",
       "      <th>actor_2</th>\n",
       "    </tr>\n",
       "  </thead>\n",
       "  <tbody>\n",
       "    <tr>\n",
       "      <th>0</th>\n",
       "      <td>박하사탕</td>\n",
       "      <td>2000-01-01</td>\n",
       "      <td>0%</td>\n",
       "      <td>86832000</td>\n",
       "      <td>9759</td>\n",
       "      <td>35</td>\n",
       "      <td>812</td>\n",
       "      <td>한국</td>\n",
       "      <td>(주)이스트필름,파인하우스필름(주)</td>\n",
       "      <td>CGV아트하우스,(주)신도필림</td>\n",
       "      <td>18세관람가,청소년관람불가</td>\n",
       "      <td>드라마</td>\n",
       "      <td>이창동</td>\n",
       "      <td>설경구,문소리,김여진,이병철,공형진,이대연,최덕문,박길수,지대한,유승목,손영순,박성...</td>\n",
       "      <td>0</td>\n",
       "      <td>0</td>\n",
       "      <td>0</td>\n",
       "      <td>설경구</td>\n",
       "      <td>문소리</td>\n",
       "    </tr>\n",
       "    <tr>\n",
       "      <th>1</th>\n",
       "      <td>캅 랜드</td>\n",
       "      <td>2000-01-15</td>\n",
       "      <td>0%</td>\n",
       "      <td>366000</td>\n",
       "      <td>183</td>\n",
       "      <td>1</td>\n",
       "      <td>3</td>\n",
       "      <td>해외</td>\n",
       "      <td>NaN</td>\n",
       "      <td>NaN</td>\n",
       "      <td>12세관람가</td>\n",
       "      <td>범죄,스릴러,액션</td>\n",
       "      <td>제임스 맨골드</td>\n",
       "      <td>실베스터 스탤론,하비 케이틀,로버트 드 니로</td>\n",
       "      <td>1</td>\n",
       "      <td>0</td>\n",
       "      <td>0</td>\n",
       "      <td>실베스터 스탤론</td>\n",
       "      <td>하비 케이틀</td>\n",
       "    </tr>\n",
       "    <tr>\n",
       "      <th>2</th>\n",
       "      <td>13번째 전사</td>\n",
       "      <td>2000-01-29</td>\n",
       "      <td>0%</td>\n",
       "      <td>126000</td>\n",
       "      <td>63</td>\n",
       "      <td>1</td>\n",
       "      <td>1</td>\n",
       "      <td>해외</td>\n",
       "      <td>NaN</td>\n",
       "      <td>브에나비스타픽쳐스</td>\n",
       "      <td>18세관람가</td>\n",
       "      <td>사극,액션,어드벤처,판타지</td>\n",
       "      <td>존 맥티어난,마이클 크라이튼</td>\n",
       "      <td>안토니오 반데라스,블라디미르 쿨리치</td>\n",
       "      <td>1</td>\n",
       "      <td>0</td>\n",
       "      <td>0</td>\n",
       "      <td>안토니오 반데라스</td>\n",
       "      <td>블라디미르 쿨리치</td>\n",
       "    </tr>\n",
       "  </tbody>\n",
       "</table>\n",
       "</div>"
      ],
      "text/plain": [
       "     title releaseDate salesPercentage     sales  audience screen screening  \\\n",
       "0     박하사탕  2000-01-01              0%  86832000      9759     35       812   \n",
       "1     캅 랜드  2000-01-15              0%    366000       183      1         3   \n",
       "2  13번째 전사  2000-01-29              0%    126000        63      1         1   \n",
       "\n",
       "  nation              company       distributor       film rate  \\\n",
       "0     한국  (주)이스트필름,파인하우스필름(주)  CGV아트하우스,(주)신도필림  18세관람가,청소년관람불가   \n",
       "1     해외                  NaN               NaN          12세관람가   \n",
       "2     해외                  NaN         브에나비스타픽쳐스          18세관람가   \n",
       "\n",
       "            genre      directed_by  \\\n",
       "0             드라마              이창동   \n",
       "1       범죄,스릴러,액션          제임스 맨골드   \n",
       "2  사극,액션,어드벤처,판타지  존 맥티어난,마이클 크라이튼   \n",
       "\n",
       "                                            starring  nation_type  \\\n",
       "0  설경구,문소리,김여진,이병철,공형진,이대연,최덕문,박길수,지대한,유승목,손영순,박성...            0   \n",
       "1                           실베스터 스탤론,하비 케이틀,로버트 드 니로            1   \n",
       "2                                안토니오 반데라스,블라디미르 쿨리치            1   \n",
       "\n",
       "  award_directed award_title    actor_1    actor_2  \n",
       "0              0           0        설경구        문소리  \n",
       "1              0           0   실베스터 스탤론     하비 케이틀  \n",
       "2              0           0  안토니오 반데라스  블라디미르 쿨리치  "
      ]
     },
     "execution_count": 454,
     "metadata": {},
     "output_type": "execute_result"
    }
   ],
   "source": [
    "movies.head(3)"
   ]
  },
  {
   "cell_type": "code",
   "execution_count": 455,
   "metadata": {},
   "outputs": [],
   "source": [
    "movies = pd.merge(movies, actor_award, left_on='actor_1', right_on='actor', how='left')"
   ]
  },
  {
   "cell_type": "code",
   "execution_count": 456,
   "metadata": {},
   "outputs": [],
   "source": [
    "movies = pd.merge(movies, actor_award, left_on='actor_2', right_on='actor', how='left')"
   ]
  },
  {
   "cell_type": "code",
   "execution_count": 457,
   "metadata": {},
   "outputs": [
    {
     "data": {
      "text/html": [
       "<div>\n",
       "<style scoped>\n",
       "    .dataframe tbody tr th:only-of-type {\n",
       "        vertical-align: middle;\n",
       "    }\n",
       "\n",
       "    .dataframe tbody tr th {\n",
       "        vertical-align: top;\n",
       "    }\n",
       "\n",
       "    .dataframe thead th {\n",
       "        text-align: right;\n",
       "    }\n",
       "</style>\n",
       "<table border=\"1\" class=\"dataframe\">\n",
       "  <thead>\n",
       "    <tr style=\"text-align: right;\">\n",
       "      <th></th>\n",
       "      <th>title</th>\n",
       "      <th>releaseDate</th>\n",
       "      <th>salesPercentage</th>\n",
       "      <th>sales</th>\n",
       "      <th>audience</th>\n",
       "      <th>screen</th>\n",
       "      <th>screening</th>\n",
       "      <th>nation</th>\n",
       "      <th>company</th>\n",
       "      <th>distributor</th>\n",
       "      <th>...</th>\n",
       "      <th>starring</th>\n",
       "      <th>nation_type</th>\n",
       "      <th>award_directed</th>\n",
       "      <th>award_title</th>\n",
       "      <th>actor_1</th>\n",
       "      <th>actor_2</th>\n",
       "      <th>actor_x</th>\n",
       "      <th>award_actor_x</th>\n",
       "      <th>actor_y</th>\n",
       "      <th>award_actor_y</th>\n",
       "    </tr>\n",
       "  </thead>\n",
       "  <tbody>\n",
       "    <tr>\n",
       "      <th>0</th>\n",
       "      <td>박하사탕</td>\n",
       "      <td>2000-01-01</td>\n",
       "      <td>0%</td>\n",
       "      <td>86832000</td>\n",
       "      <td>9759</td>\n",
       "      <td>35</td>\n",
       "      <td>812</td>\n",
       "      <td>한국</td>\n",
       "      <td>(주)이스트필름,파인하우스필름(주)</td>\n",
       "      <td>CGV아트하우스,(주)신도필림</td>\n",
       "      <td>...</td>\n",
       "      <td>설경구,문소리,김여진,이병철,공형진,이대연,최덕문,박길수,지대한,유승목,손영순,박성...</td>\n",
       "      <td>0</td>\n",
       "      <td>0</td>\n",
       "      <td>0</td>\n",
       "      <td>설경구</td>\n",
       "      <td>문소리</td>\n",
       "      <td>설경구</td>\n",
       "      <td>1.0</td>\n",
       "      <td>NaN</td>\n",
       "      <td>NaN</td>\n",
       "    </tr>\n",
       "    <tr>\n",
       "      <th>1</th>\n",
       "      <td>캅 랜드</td>\n",
       "      <td>2000-01-15</td>\n",
       "      <td>0%</td>\n",
       "      <td>366000</td>\n",
       "      <td>183</td>\n",
       "      <td>1</td>\n",
       "      <td>3</td>\n",
       "      <td>해외</td>\n",
       "      <td>NaN</td>\n",
       "      <td>NaN</td>\n",
       "      <td>...</td>\n",
       "      <td>실베스터 스탤론,하비 케이틀,로버트 드 니로</td>\n",
       "      <td>1</td>\n",
       "      <td>0</td>\n",
       "      <td>0</td>\n",
       "      <td>실베스터 스탤론</td>\n",
       "      <td>하비 케이틀</td>\n",
       "      <td>NaN</td>\n",
       "      <td>NaN</td>\n",
       "      <td>NaN</td>\n",
       "      <td>NaN</td>\n",
       "    </tr>\n",
       "    <tr>\n",
       "      <th>2</th>\n",
       "      <td>13번째 전사</td>\n",
       "      <td>2000-01-29</td>\n",
       "      <td>0%</td>\n",
       "      <td>126000</td>\n",
       "      <td>63</td>\n",
       "      <td>1</td>\n",
       "      <td>1</td>\n",
       "      <td>해외</td>\n",
       "      <td>NaN</td>\n",
       "      <td>브에나비스타픽쳐스</td>\n",
       "      <td>...</td>\n",
       "      <td>안토니오 반데라스,블라디미르 쿨리치</td>\n",
       "      <td>1</td>\n",
       "      <td>0</td>\n",
       "      <td>0</td>\n",
       "      <td>안토니오 반데라스</td>\n",
       "      <td>블라디미르 쿨리치</td>\n",
       "      <td>NaN</td>\n",
       "      <td>NaN</td>\n",
       "      <td>NaN</td>\n",
       "      <td>NaN</td>\n",
       "    </tr>\n",
       "  </tbody>\n",
       "</table>\n",
       "<p>3 rows × 23 columns</p>\n",
       "</div>"
      ],
      "text/plain": [
       "     title releaseDate salesPercentage     sales  audience screen screening  \\\n",
       "0     박하사탕  2000-01-01              0%  86832000      9759     35       812   \n",
       "1     캅 랜드  2000-01-15              0%    366000       183      1         3   \n",
       "2  13번째 전사  2000-01-29              0%    126000        63      1         1   \n",
       "\n",
       "  nation              company       distributor  ...  \\\n",
       "0     한국  (주)이스트필름,파인하우스필름(주)  CGV아트하우스,(주)신도필림  ...   \n",
       "1     해외                  NaN               NaN  ...   \n",
       "2     해외                  NaN         브에나비스타픽쳐스  ...   \n",
       "\n",
       "                                            starring nation_type  \\\n",
       "0  설경구,문소리,김여진,이병철,공형진,이대연,최덕문,박길수,지대한,유승목,손영순,박성...           0   \n",
       "1                           실베스터 스탤론,하비 케이틀,로버트 드 니로           1   \n",
       "2                                안토니오 반데라스,블라디미르 쿨리치           1   \n",
       "\n",
       "  award_directed award_title    actor_1    actor_2 actor_x award_actor_x  \\\n",
       "0              0           0        설경구        문소리     설경구           1.0   \n",
       "1              0           0   실베스터 스탤론     하비 케이틀     NaN           NaN   \n",
       "2              0           0  안토니오 반데라스  블라디미르 쿨리치     NaN           NaN   \n",
       "\n",
       "  actor_y award_actor_y  \n",
       "0     NaN           NaN  \n",
       "1     NaN           NaN  \n",
       "2     NaN           NaN  \n",
       "\n",
       "[3 rows x 23 columns]"
      ]
     },
     "execution_count": 457,
     "metadata": {},
     "output_type": "execute_result"
    }
   ],
   "source": [
    "movies.head(3)"
   ]
  },
  {
   "cell_type": "code",
   "execution_count": 458,
   "metadata": {},
   "outputs": [],
   "source": [
    "movies['award_actor_x'] = movies['award_actor_x'].fillna(\"0\")"
   ]
  },
  {
   "cell_type": "code",
   "execution_count": 459,
   "metadata": {},
   "outputs": [],
   "source": [
    "movies['award_actor_y'] = movies['award_actor_y'].fillna(\"0\")"
   ]
  },
  {
   "cell_type": "code",
   "execution_count": 460,
   "metadata": {},
   "outputs": [
    {
     "data": {
      "text/html": [
       "<div>\n",
       "<style scoped>\n",
       "    .dataframe tbody tr th:only-of-type {\n",
       "        vertical-align: middle;\n",
       "    }\n",
       "\n",
       "    .dataframe tbody tr th {\n",
       "        vertical-align: top;\n",
       "    }\n",
       "\n",
       "    .dataframe thead th {\n",
       "        text-align: right;\n",
       "    }\n",
       "</style>\n",
       "<table border=\"1\" class=\"dataframe\">\n",
       "  <thead>\n",
       "    <tr style=\"text-align: right;\">\n",
       "      <th></th>\n",
       "      <th>title</th>\n",
       "      <th>releaseDate</th>\n",
       "      <th>salesPercentage</th>\n",
       "      <th>sales</th>\n",
       "      <th>audience</th>\n",
       "      <th>screen</th>\n",
       "      <th>screening</th>\n",
       "      <th>nation</th>\n",
       "      <th>company</th>\n",
       "      <th>distributor</th>\n",
       "      <th>...</th>\n",
       "      <th>starring</th>\n",
       "      <th>nation_type</th>\n",
       "      <th>award_directed</th>\n",
       "      <th>award_title</th>\n",
       "      <th>actor_1</th>\n",
       "      <th>actor_2</th>\n",
       "      <th>actor_x</th>\n",
       "      <th>award_actor_x</th>\n",
       "      <th>actor_y</th>\n",
       "      <th>award_actor_y</th>\n",
       "    </tr>\n",
       "  </thead>\n",
       "  <tbody>\n",
       "    <tr>\n",
       "      <th>0</th>\n",
       "      <td>박하사탕</td>\n",
       "      <td>2000-01-01</td>\n",
       "      <td>0%</td>\n",
       "      <td>86832000</td>\n",
       "      <td>9759</td>\n",
       "      <td>35</td>\n",
       "      <td>812</td>\n",
       "      <td>한국</td>\n",
       "      <td>(주)이스트필름,파인하우스필름(주)</td>\n",
       "      <td>CGV아트하우스,(주)신도필림</td>\n",
       "      <td>...</td>\n",
       "      <td>설경구,문소리,김여진,이병철,공형진,이대연,최덕문,박길수,지대한,유승목,손영순,박성...</td>\n",
       "      <td>0</td>\n",
       "      <td>0</td>\n",
       "      <td>0</td>\n",
       "      <td>설경구</td>\n",
       "      <td>문소리</td>\n",
       "      <td>설경구</td>\n",
       "      <td>1</td>\n",
       "      <td>NaN</td>\n",
       "      <td>0</td>\n",
       "    </tr>\n",
       "    <tr>\n",
       "      <th>1</th>\n",
       "      <td>캅 랜드</td>\n",
       "      <td>2000-01-15</td>\n",
       "      <td>0%</td>\n",
       "      <td>366000</td>\n",
       "      <td>183</td>\n",
       "      <td>1</td>\n",
       "      <td>3</td>\n",
       "      <td>해외</td>\n",
       "      <td>NaN</td>\n",
       "      <td>NaN</td>\n",
       "      <td>...</td>\n",
       "      <td>실베스터 스탤론,하비 케이틀,로버트 드 니로</td>\n",
       "      <td>1</td>\n",
       "      <td>0</td>\n",
       "      <td>0</td>\n",
       "      <td>실베스터 스탤론</td>\n",
       "      <td>하비 케이틀</td>\n",
       "      <td>NaN</td>\n",
       "      <td>0</td>\n",
       "      <td>NaN</td>\n",
       "      <td>0</td>\n",
       "    </tr>\n",
       "    <tr>\n",
       "      <th>2</th>\n",
       "      <td>13번째 전사</td>\n",
       "      <td>2000-01-29</td>\n",
       "      <td>0%</td>\n",
       "      <td>126000</td>\n",
       "      <td>63</td>\n",
       "      <td>1</td>\n",
       "      <td>1</td>\n",
       "      <td>해외</td>\n",
       "      <td>NaN</td>\n",
       "      <td>브에나비스타픽쳐스</td>\n",
       "      <td>...</td>\n",
       "      <td>안토니오 반데라스,블라디미르 쿨리치</td>\n",
       "      <td>1</td>\n",
       "      <td>0</td>\n",
       "      <td>0</td>\n",
       "      <td>안토니오 반데라스</td>\n",
       "      <td>블라디미르 쿨리치</td>\n",
       "      <td>NaN</td>\n",
       "      <td>0</td>\n",
       "      <td>NaN</td>\n",
       "      <td>0</td>\n",
       "    </tr>\n",
       "  </tbody>\n",
       "</table>\n",
       "<p>3 rows × 23 columns</p>\n",
       "</div>"
      ],
      "text/plain": [
       "     title releaseDate salesPercentage     sales  audience screen screening  \\\n",
       "0     박하사탕  2000-01-01              0%  86832000      9759     35       812   \n",
       "1     캅 랜드  2000-01-15              0%    366000       183      1         3   \n",
       "2  13번째 전사  2000-01-29              0%    126000        63      1         1   \n",
       "\n",
       "  nation              company       distributor  ...  \\\n",
       "0     한국  (주)이스트필름,파인하우스필름(주)  CGV아트하우스,(주)신도필림  ...   \n",
       "1     해외                  NaN               NaN  ...   \n",
       "2     해외                  NaN         브에나비스타픽쳐스  ...   \n",
       "\n",
       "                                            starring nation_type  \\\n",
       "0  설경구,문소리,김여진,이병철,공형진,이대연,최덕문,박길수,지대한,유승목,손영순,박성...           0   \n",
       "1                           실베스터 스탤론,하비 케이틀,로버트 드 니로           1   \n",
       "2                                안토니오 반데라스,블라디미르 쿨리치           1   \n",
       "\n",
       "  award_directed award_title    actor_1    actor_2 actor_x award_actor_x  \\\n",
       "0              0           0        설경구        문소리     설경구             1   \n",
       "1              0           0   실베스터 스탤론     하비 케이틀     NaN             0   \n",
       "2              0           0  안토니오 반데라스  블라디미르 쿨리치     NaN             0   \n",
       "\n",
       "  actor_y award_actor_y  \n",
       "0     NaN             0  \n",
       "1     NaN             0  \n",
       "2     NaN             0  \n",
       "\n",
       "[3 rows x 23 columns]"
      ]
     },
     "execution_count": 460,
     "metadata": {},
     "output_type": "execute_result"
    }
   ],
   "source": [
    "movies.head(3)"
   ]
  },
  {
   "cell_type": "code",
   "execution_count": 461,
   "metadata": {},
   "outputs": [],
   "source": [
    "movies = movies.drop('actor_x', axis=1)"
   ]
  },
  {
   "cell_type": "code",
   "execution_count": 462,
   "metadata": {},
   "outputs": [],
   "source": [
    "movies = movies.drop('actor_y', axis=1)"
   ]
  },
  {
   "cell_type": "code",
   "execution_count": 463,
   "metadata": {},
   "outputs": [
    {
     "data": {
      "text/html": [
       "<div>\n",
       "<style scoped>\n",
       "    .dataframe tbody tr th:only-of-type {\n",
       "        vertical-align: middle;\n",
       "    }\n",
       "\n",
       "    .dataframe tbody tr th {\n",
       "        vertical-align: top;\n",
       "    }\n",
       "\n",
       "    .dataframe thead th {\n",
       "        text-align: right;\n",
       "    }\n",
       "</style>\n",
       "<table border=\"1\" class=\"dataframe\">\n",
       "  <thead>\n",
       "    <tr style=\"text-align: right;\">\n",
       "      <th></th>\n",
       "      <th>title</th>\n",
       "      <th>releaseDate</th>\n",
       "      <th>salesPercentage</th>\n",
       "      <th>sales</th>\n",
       "      <th>audience</th>\n",
       "      <th>screen</th>\n",
       "      <th>screening</th>\n",
       "      <th>nation</th>\n",
       "      <th>company</th>\n",
       "      <th>distributor</th>\n",
       "      <th>...</th>\n",
       "      <th>genre</th>\n",
       "      <th>directed_by</th>\n",
       "      <th>starring</th>\n",
       "      <th>nation_type</th>\n",
       "      <th>award_directed</th>\n",
       "      <th>award_title</th>\n",
       "      <th>actor_1</th>\n",
       "      <th>actor_2</th>\n",
       "      <th>award_actor_x</th>\n",
       "      <th>award_actor_y</th>\n",
       "    </tr>\n",
       "  </thead>\n",
       "  <tbody>\n",
       "    <tr>\n",
       "      <th>0</th>\n",
       "      <td>박하사탕</td>\n",
       "      <td>2000-01-01</td>\n",
       "      <td>0%</td>\n",
       "      <td>86832000</td>\n",
       "      <td>9759</td>\n",
       "      <td>35</td>\n",
       "      <td>812</td>\n",
       "      <td>한국</td>\n",
       "      <td>(주)이스트필름,파인하우스필름(주)</td>\n",
       "      <td>CGV아트하우스,(주)신도필림</td>\n",
       "      <td>...</td>\n",
       "      <td>드라마</td>\n",
       "      <td>이창동</td>\n",
       "      <td>설경구,문소리,김여진,이병철,공형진,이대연,최덕문,박길수,지대한,유승목,손영순,박성...</td>\n",
       "      <td>0</td>\n",
       "      <td>0</td>\n",
       "      <td>0</td>\n",
       "      <td>설경구</td>\n",
       "      <td>문소리</td>\n",
       "      <td>1</td>\n",
       "      <td>0</td>\n",
       "    </tr>\n",
       "    <tr>\n",
       "      <th>1</th>\n",
       "      <td>캅 랜드</td>\n",
       "      <td>2000-01-15</td>\n",
       "      <td>0%</td>\n",
       "      <td>366000</td>\n",
       "      <td>183</td>\n",
       "      <td>1</td>\n",
       "      <td>3</td>\n",
       "      <td>해외</td>\n",
       "      <td>NaN</td>\n",
       "      <td>NaN</td>\n",
       "      <td>...</td>\n",
       "      <td>범죄,스릴러,액션</td>\n",
       "      <td>제임스 맨골드</td>\n",
       "      <td>실베스터 스탤론,하비 케이틀,로버트 드 니로</td>\n",
       "      <td>1</td>\n",
       "      <td>0</td>\n",
       "      <td>0</td>\n",
       "      <td>실베스터 스탤론</td>\n",
       "      <td>하비 케이틀</td>\n",
       "      <td>0</td>\n",
       "      <td>0</td>\n",
       "    </tr>\n",
       "    <tr>\n",
       "      <th>2</th>\n",
       "      <td>13번째 전사</td>\n",
       "      <td>2000-01-29</td>\n",
       "      <td>0%</td>\n",
       "      <td>126000</td>\n",
       "      <td>63</td>\n",
       "      <td>1</td>\n",
       "      <td>1</td>\n",
       "      <td>해외</td>\n",
       "      <td>NaN</td>\n",
       "      <td>브에나비스타픽쳐스</td>\n",
       "      <td>...</td>\n",
       "      <td>사극,액션,어드벤처,판타지</td>\n",
       "      <td>존 맥티어난,마이클 크라이튼</td>\n",
       "      <td>안토니오 반데라스,블라디미르 쿨리치</td>\n",
       "      <td>1</td>\n",
       "      <td>0</td>\n",
       "      <td>0</td>\n",
       "      <td>안토니오 반데라스</td>\n",
       "      <td>블라디미르 쿨리치</td>\n",
       "      <td>0</td>\n",
       "      <td>0</td>\n",
       "    </tr>\n",
       "  </tbody>\n",
       "</table>\n",
       "<p>3 rows × 21 columns</p>\n",
       "</div>"
      ],
      "text/plain": [
       "     title releaseDate salesPercentage     sales  audience screen screening  \\\n",
       "0     박하사탕  2000-01-01              0%  86832000      9759     35       812   \n",
       "1     캅 랜드  2000-01-15              0%    366000       183      1         3   \n",
       "2  13번째 전사  2000-01-29              0%    126000        63      1         1   \n",
       "\n",
       "  nation              company       distributor  ...           genre  \\\n",
       "0     한국  (주)이스트필름,파인하우스필름(주)  CGV아트하우스,(주)신도필림  ...             드라마   \n",
       "1     해외                  NaN               NaN  ...       범죄,스릴러,액션   \n",
       "2     해외                  NaN         브에나비스타픽쳐스  ...  사극,액션,어드벤처,판타지   \n",
       "\n",
       "       directed_by                                           starring  \\\n",
       "0              이창동  설경구,문소리,김여진,이병철,공형진,이대연,최덕문,박길수,지대한,유승목,손영순,박성...   \n",
       "1          제임스 맨골드                           실베스터 스탤론,하비 케이틀,로버트 드 니로   \n",
       "2  존 맥티어난,마이클 크라이튼                                안토니오 반데라스,블라디미르 쿨리치   \n",
       "\n",
       "  nation_type  award_directed award_title    actor_1    actor_2 award_actor_x  \\\n",
       "0           0               0           0        설경구        문소리             1   \n",
       "1           1               0           0   실베스터 스탤론     하비 케이틀             0   \n",
       "2           1               0           0  안토니오 반데라스  블라디미르 쿨리치             0   \n",
       "\n",
       "  award_actor_y  \n",
       "0             0  \n",
       "1             0  \n",
       "2             0  \n",
       "\n",
       "[3 rows x 21 columns]"
      ]
     },
     "execution_count": 463,
     "metadata": {},
     "output_type": "execute_result"
    }
   ],
   "source": [
    "movies.head(3)"
   ]
  },
  {
   "cell_type": "code",
   "execution_count": 464,
   "metadata": {},
   "outputs": [],
   "source": [
    "movies.rename(columns=lambda x: x.replace('award_actor_x', 'award_actor_1'), inplace=True)\n",
    "movies.rename(columns=lambda x: x.replace('award_actor_y', 'award_actor_2'), inplace=True)"
   ]
  },
  {
   "cell_type": "code",
   "execution_count": 465,
   "metadata": {},
   "outputs": [
    {
     "name": "stdout",
     "output_type": "stream",
     "text": [
      "<class 'pandas.core.frame.DataFrame'>\n",
      "Int64Index: 4258 entries, 0 to 4257\n",
      "Data columns (total 21 columns):\n",
      "title              4258 non-null object\n",
      "releaseDate        4258 non-null object\n",
      "salesPercentage    4258 non-null object\n",
      "sales              4258 non-null int64\n",
      "audience           4258 non-null int64\n",
      "screen             4258 non-null object\n",
      "screening          4258 non-null object\n",
      "nation             4258 non-null object\n",
      "company            1546 non-null object\n",
      "distributor        4218 non-null object\n",
      "film rate          4243 non-null object\n",
      "genre              4207 non-null object\n",
      "directed_by        4127 non-null object\n",
      "starring           2407 non-null object\n",
      "nation_type        4258 non-null int64\n",
      "award_directed     4258 non-null object\n",
      "award_title        4258 non-null object\n",
      "actor_1            2407 non-null object\n",
      "actor_2            1953 non-null object\n",
      "award_actor_1      4258 non-null object\n",
      "award_actor_2      4258 non-null object\n",
      "dtypes: int64(3), object(18)\n",
      "memory usage: 432.5+ KB\n"
     ]
    }
   ],
   "source": [
    "movies.info()"
   ]
  },
  {
   "cell_type": "code",
   "execution_count": 466,
   "metadata": {},
   "outputs": [],
   "source": [
    "movies['actor_1'] = movies['actor_1'].fillna(\"No actor information\")"
   ]
  },
  {
   "cell_type": "code",
   "execution_count": 467,
   "metadata": {},
   "outputs": [],
   "source": [
    "movies['actor_2'] = movies['actor_2'].fillna(\"No actor information\")"
   ]
  },
  {
   "cell_type": "code",
   "execution_count": 468,
   "metadata": {},
   "outputs": [],
   "source": [
    "movies[['award_directed', 'award_title', 'award_actor_1', 'award_actor_2']] = movies[['award_directed', 'award_title', 'award_actor_1', 'award_actor_2']].apply(pd.to_numeric)"
   ]
  },
  {
   "cell_type": "code",
   "execution_count": 469,
   "metadata": {},
   "outputs": [],
   "source": [
    "movies['award_actor_3'] = movies['award_actor_1'] + movies['award_actor_2']"
   ]
  },
  {
   "cell_type": "code",
   "execution_count": 470,
   "metadata": {},
   "outputs": [
    {
     "data": {
      "text/plain": [
       "2.0"
      ]
     },
     "execution_count": 470,
     "metadata": {},
     "output_type": "execute_result"
    }
   ],
   "source": [
    "movies['award_actor_3'].max()"
   ]
  },
  {
   "cell_type": "code",
   "execution_count": 471,
   "metadata": {},
   "outputs": [],
   "source": [
    "movies['award_actor_3'] = movies['award_actor_3'].apply(lambda x: 1 if x == 2 else x)"
   ]
  },
  {
   "cell_type": "code",
   "execution_count": 472,
   "metadata": {},
   "outputs": [
    {
     "data": {
      "text/plain": [
       "1.0"
      ]
     },
     "execution_count": 472,
     "metadata": {},
     "output_type": "execute_result"
    }
   ],
   "source": [
    "movies['award_actor_3'].max()"
   ]
  },
  {
   "cell_type": "code",
   "execution_count": 473,
   "metadata": {},
   "outputs": [
    {
     "data": {
      "text/html": [
       "<div>\n",
       "<style scoped>\n",
       "    .dataframe tbody tr th:only-of-type {\n",
       "        vertical-align: middle;\n",
       "    }\n",
       "\n",
       "    .dataframe tbody tr th {\n",
       "        vertical-align: top;\n",
       "    }\n",
       "\n",
       "    .dataframe thead th {\n",
       "        text-align: right;\n",
       "    }\n",
       "</style>\n",
       "<table border=\"1\" class=\"dataframe\">\n",
       "  <thead>\n",
       "    <tr style=\"text-align: right;\">\n",
       "      <th></th>\n",
       "      <th>title</th>\n",
       "      <th>releaseDate</th>\n",
       "      <th>salesPercentage</th>\n",
       "      <th>sales</th>\n",
       "      <th>audience</th>\n",
       "      <th>screen</th>\n",
       "      <th>screening</th>\n",
       "      <th>nation</th>\n",
       "      <th>company</th>\n",
       "      <th>distributor</th>\n",
       "      <th>...</th>\n",
       "      <th>directed_by</th>\n",
       "      <th>starring</th>\n",
       "      <th>nation_type</th>\n",
       "      <th>award_directed</th>\n",
       "      <th>award_title</th>\n",
       "      <th>actor_1</th>\n",
       "      <th>actor_2</th>\n",
       "      <th>award_actor_1</th>\n",
       "      <th>award_actor_2</th>\n",
       "      <th>award_actor_3</th>\n",
       "    </tr>\n",
       "  </thead>\n",
       "  <tbody>\n",
       "    <tr>\n",
       "      <th>0</th>\n",
       "      <td>박하사탕</td>\n",
       "      <td>2000-01-01</td>\n",
       "      <td>0%</td>\n",
       "      <td>86832000</td>\n",
       "      <td>9759</td>\n",
       "      <td>35</td>\n",
       "      <td>812</td>\n",
       "      <td>한국</td>\n",
       "      <td>(주)이스트필름,파인하우스필름(주)</td>\n",
       "      <td>CGV아트하우스,(주)신도필림</td>\n",
       "      <td>...</td>\n",
       "      <td>이창동</td>\n",
       "      <td>설경구,문소리,김여진,이병철,공형진,이대연,최덕문,박길수,지대한,유승목,손영순,박성...</td>\n",
       "      <td>0</td>\n",
       "      <td>0.0</td>\n",
       "      <td>0.0</td>\n",
       "      <td>설경구</td>\n",
       "      <td>문소리</td>\n",
       "      <td>1.0</td>\n",
       "      <td>0.0</td>\n",
       "      <td>1.0</td>\n",
       "    </tr>\n",
       "    <tr>\n",
       "      <th>1</th>\n",
       "      <td>캅 랜드</td>\n",
       "      <td>2000-01-15</td>\n",
       "      <td>0%</td>\n",
       "      <td>366000</td>\n",
       "      <td>183</td>\n",
       "      <td>1</td>\n",
       "      <td>3</td>\n",
       "      <td>해외</td>\n",
       "      <td>NaN</td>\n",
       "      <td>NaN</td>\n",
       "      <td>...</td>\n",
       "      <td>제임스 맨골드</td>\n",
       "      <td>실베스터 스탤론,하비 케이틀,로버트 드 니로</td>\n",
       "      <td>1</td>\n",
       "      <td>0.0</td>\n",
       "      <td>0.0</td>\n",
       "      <td>실베스터 스탤론</td>\n",
       "      <td>하비 케이틀</td>\n",
       "      <td>0.0</td>\n",
       "      <td>0.0</td>\n",
       "      <td>0.0</td>\n",
       "    </tr>\n",
       "    <tr>\n",
       "      <th>2</th>\n",
       "      <td>13번째 전사</td>\n",
       "      <td>2000-01-29</td>\n",
       "      <td>0%</td>\n",
       "      <td>126000</td>\n",
       "      <td>63</td>\n",
       "      <td>1</td>\n",
       "      <td>1</td>\n",
       "      <td>해외</td>\n",
       "      <td>NaN</td>\n",
       "      <td>브에나비스타픽쳐스</td>\n",
       "      <td>...</td>\n",
       "      <td>존 맥티어난,마이클 크라이튼</td>\n",
       "      <td>안토니오 반데라스,블라디미르 쿨리치</td>\n",
       "      <td>1</td>\n",
       "      <td>0.0</td>\n",
       "      <td>0.0</td>\n",
       "      <td>안토니오 반데라스</td>\n",
       "      <td>블라디미르 쿨리치</td>\n",
       "      <td>0.0</td>\n",
       "      <td>0.0</td>\n",
       "      <td>0.0</td>\n",
       "    </tr>\n",
       "  </tbody>\n",
       "</table>\n",
       "<p>3 rows × 22 columns</p>\n",
       "</div>"
      ],
      "text/plain": [
       "     title releaseDate salesPercentage     sales  audience screen screening  \\\n",
       "0     박하사탕  2000-01-01              0%  86832000      9759     35       812   \n",
       "1     캅 랜드  2000-01-15              0%    366000       183      1         3   \n",
       "2  13번째 전사  2000-01-29              0%    126000        63      1         1   \n",
       "\n",
       "  nation              company       distributor  ...      directed_by  \\\n",
       "0     한국  (주)이스트필름,파인하우스필름(주)  CGV아트하우스,(주)신도필림  ...              이창동   \n",
       "1     해외                  NaN               NaN  ...          제임스 맨골드   \n",
       "2     해외                  NaN         브에나비스타픽쳐스  ...  존 맥티어난,마이클 크라이튼   \n",
       "\n",
       "                                            starring nation_type  \\\n",
       "0  설경구,문소리,김여진,이병철,공형진,이대연,최덕문,박길수,지대한,유승목,손영순,박성...           0   \n",
       "1                           실베스터 스탤론,하비 케이틀,로버트 드 니로           1   \n",
       "2                                안토니오 반데라스,블라디미르 쿨리치           1   \n",
       "\n",
       "  award_directed  award_title    actor_1    actor_2 award_actor_1  \\\n",
       "0            0.0          0.0        설경구        문소리           1.0   \n",
       "1            0.0          0.0   실베스터 스탤론     하비 케이틀           0.0   \n",
       "2            0.0          0.0  안토니오 반데라스  블라디미르 쿨리치           0.0   \n",
       "\n",
       "  award_actor_2  award_actor_3  \n",
       "0           0.0            1.0  \n",
       "1           0.0            0.0  \n",
       "2           0.0            0.0  \n",
       "\n",
       "[3 rows x 22 columns]"
      ]
     },
     "execution_count": 473,
     "metadata": {},
     "output_type": "execute_result"
    }
   ],
   "source": [
    "movies.head(3)"
   ]
  },
  {
   "cell_type": "code",
   "execution_count": 474,
   "metadata": {},
   "outputs": [],
   "source": [
    "movies = movies.drop('award_actor_1', axis=1)\n",
    "movies = movies.drop('award_actor_2', axis=1)"
   ]
  },
  {
   "cell_type": "code",
   "execution_count": 475,
   "metadata": {},
   "outputs": [],
   "source": [
    "movies.rename(columns=lambda x: x.replace('award_actor_3', 'award_actor'), inplace=True)"
   ]
  },
  {
   "cell_type": "code",
   "execution_count": 476,
   "metadata": {},
   "outputs": [
    {
     "data": {
      "text/html": [
       "<div>\n",
       "<style scoped>\n",
       "    .dataframe tbody tr th:only-of-type {\n",
       "        vertical-align: middle;\n",
       "    }\n",
       "\n",
       "    .dataframe tbody tr th {\n",
       "        vertical-align: top;\n",
       "    }\n",
       "\n",
       "    .dataframe thead th {\n",
       "        text-align: right;\n",
       "    }\n",
       "</style>\n",
       "<table border=\"1\" class=\"dataframe\">\n",
       "  <thead>\n",
       "    <tr style=\"text-align: right;\">\n",
       "      <th></th>\n",
       "      <th>title</th>\n",
       "      <th>releaseDate</th>\n",
       "      <th>salesPercentage</th>\n",
       "      <th>sales</th>\n",
       "      <th>audience</th>\n",
       "      <th>screen</th>\n",
       "      <th>screening</th>\n",
       "      <th>nation</th>\n",
       "      <th>company</th>\n",
       "      <th>distributor</th>\n",
       "      <th>film rate</th>\n",
       "      <th>genre</th>\n",
       "      <th>directed_by</th>\n",
       "      <th>starring</th>\n",
       "      <th>nation_type</th>\n",
       "      <th>award_directed</th>\n",
       "      <th>award_title</th>\n",
       "      <th>actor_1</th>\n",
       "      <th>actor_2</th>\n",
       "      <th>award_actor</th>\n",
       "    </tr>\n",
       "  </thead>\n",
       "  <tbody>\n",
       "    <tr>\n",
       "      <th>0</th>\n",
       "      <td>박하사탕</td>\n",
       "      <td>2000-01-01</td>\n",
       "      <td>0%</td>\n",
       "      <td>86832000</td>\n",
       "      <td>9759</td>\n",
       "      <td>35</td>\n",
       "      <td>812</td>\n",
       "      <td>한국</td>\n",
       "      <td>(주)이스트필름,파인하우스필름(주)</td>\n",
       "      <td>CGV아트하우스,(주)신도필림</td>\n",
       "      <td>18세관람가,청소년관람불가</td>\n",
       "      <td>드라마</td>\n",
       "      <td>이창동</td>\n",
       "      <td>설경구,문소리,김여진,이병철,공형진,이대연,최덕문,박길수,지대한,유승목,손영순,박성...</td>\n",
       "      <td>0</td>\n",
       "      <td>0.0</td>\n",
       "      <td>0.0</td>\n",
       "      <td>설경구</td>\n",
       "      <td>문소리</td>\n",
       "      <td>1.0</td>\n",
       "    </tr>\n",
       "  </tbody>\n",
       "</table>\n",
       "</div>"
      ],
      "text/plain": [
       "  title releaseDate salesPercentage     sales  audience screen screening  \\\n",
       "0  박하사탕  2000-01-01              0%  86832000      9759     35       812   \n",
       "\n",
       "  nation              company       distributor       film rate genre  \\\n",
       "0     한국  (주)이스트필름,파인하우스필름(주)  CGV아트하우스,(주)신도필림  18세관람가,청소년관람불가   드라마   \n",
       "\n",
       "  directed_by                                           starring  nation_type  \\\n",
       "0         이창동  설경구,문소리,김여진,이병철,공형진,이대연,최덕문,박길수,지대한,유승목,손영순,박성...            0   \n",
       "\n",
       "   award_directed  award_title actor_1 actor_2  award_actor  \n",
       "0             0.0          0.0     설경구     문소리          1.0  "
      ]
     },
     "execution_count": 476,
     "metadata": {},
     "output_type": "execute_result"
    }
   ],
   "source": [
    "movies.head(1)"
   ]
  },
  {
   "cell_type": "code",
   "execution_count": 480,
   "metadata": {},
   "outputs": [
    {
     "data": {
      "text/plain": [
       "title               object\n",
       "releaseDate         object\n",
       "salesPercentage     object\n",
       "sales                int64\n",
       "audience             int64\n",
       "screen              object\n",
       "screening           object\n",
       "nation              object\n",
       "company             object\n",
       "distributor         object\n",
       "film rate           object\n",
       "genre               object\n",
       "directed_by         object\n",
       "starring            object\n",
       "nation_type          int64\n",
       "award_directed     float64\n",
       "award_title        float64\n",
       "actor_1             object\n",
       "actor_2             object\n",
       "award_actor        float64\n",
       "dtype: object"
      ]
     },
     "execution_count": 480,
     "metadata": {},
     "output_type": "execute_result"
    }
   ],
   "source": [
    "movies.dtypes"
   ]
  },
  {
   "cell_type": "code",
   "execution_count": 623,
   "metadata": {},
   "outputs": [],
   "source": [
    "X = movies[[\"sales\", \"audience\", \"nation_type\", \"award_directed\", \"award_title\", \"award_actor\"]]"
   ]
  },
  {
   "cell_type": "code",
   "execution_count": 624,
   "metadata": {},
   "outputs": [
    {
     "data": {
      "text/html": [
       "<div>\n",
       "<style scoped>\n",
       "    .dataframe tbody tr th:only-of-type {\n",
       "        vertical-align: middle;\n",
       "    }\n",
       "\n",
       "    .dataframe tbody tr th {\n",
       "        vertical-align: top;\n",
       "    }\n",
       "\n",
       "    .dataframe thead th {\n",
       "        text-align: right;\n",
       "    }\n",
       "</style>\n",
       "<table border=\"1\" class=\"dataframe\">\n",
       "  <thead>\n",
       "    <tr style=\"text-align: right;\">\n",
       "      <th></th>\n",
       "      <th>sales</th>\n",
       "      <th>audience</th>\n",
       "      <th>nation_type</th>\n",
       "      <th>award_directed</th>\n",
       "      <th>award_title</th>\n",
       "      <th>award_actor</th>\n",
       "    </tr>\n",
       "  </thead>\n",
       "  <tbody>\n",
       "    <tr>\n",
       "      <th>0</th>\n",
       "      <td>86832000</td>\n",
       "      <td>9759</td>\n",
       "      <td>0</td>\n",
       "      <td>0.0</td>\n",
       "      <td>0.0</td>\n",
       "      <td>1.0</td>\n",
       "    </tr>\n",
       "    <tr>\n",
       "      <th>1</th>\n",
       "      <td>366000</td>\n",
       "      <td>183</td>\n",
       "      <td>1</td>\n",
       "      <td>0.0</td>\n",
       "      <td>0.0</td>\n",
       "      <td>0.0</td>\n",
       "    </tr>\n",
       "    <tr>\n",
       "      <th>2</th>\n",
       "      <td>126000</td>\n",
       "      <td>63</td>\n",
       "      <td>1</td>\n",
       "      <td>0.0</td>\n",
       "      <td>0.0</td>\n",
       "      <td>0.0</td>\n",
       "    </tr>\n",
       "    <tr>\n",
       "      <th>3</th>\n",
       "      <td>4416200</td>\n",
       "      <td>609</td>\n",
       "      <td>0</td>\n",
       "      <td>1.0</td>\n",
       "      <td>0.0</td>\n",
       "      <td>0.0</td>\n",
       "    </tr>\n",
       "    <tr>\n",
       "      <th>4</th>\n",
       "      <td>606000</td>\n",
       "      <td>124</td>\n",
       "      <td>1</td>\n",
       "      <td>1.0</td>\n",
       "      <td>1.0</td>\n",
       "      <td>1.0</td>\n",
       "    </tr>\n",
       "  </tbody>\n",
       "</table>\n",
       "</div>"
      ],
      "text/plain": [
       "      sales  audience  nation_type  award_directed  award_title  award_actor\n",
       "0  86832000      9759            0             0.0          0.0          1.0\n",
       "1    366000       183            1             0.0          0.0          0.0\n",
       "2    126000        63            1             0.0          0.0          0.0\n",
       "3   4416200       609            0             1.0          0.0          0.0\n",
       "4    606000       124            1             1.0          1.0          1.0"
      ]
     },
     "execution_count": 624,
     "metadata": {},
     "output_type": "execute_result"
    }
   ],
   "source": [
    "X.head()"
   ]
  },
  {
   "cell_type": "code",
   "execution_count": 483,
   "metadata": {},
   "outputs": [
    {
     "data": {
      "text/plain": [
       "sales             int64\n",
       "audience          int64\n",
       "nation_type       int64\n",
       "award_directed    int32\n",
       "award_title       int32\n",
       "award_actor       int32\n",
       "dtype: object"
      ]
     },
     "execution_count": 483,
     "metadata": {},
     "output_type": "execute_result"
    }
   ],
   "source": [
    "X.astype({'award_directed':'int', 'award_title':'int', 'award_actor':'int'}).dtypes"
   ]
  },
  {
   "cell_type": "code",
   "execution_count": 485,
   "metadata": {},
   "outputs": [
    {
     "data": {
      "text/plain": [
       "<matplotlib.axes._subplots.AxesSubplot at 0x15fe37d0>"
      ]
     },
     "execution_count": 485,
     "metadata": {},
     "output_type": "execute_result"
    },
    {
     "data": {
      "image/png": "[encoded data removed]",
      "text/plain": [
       "<Figure size 432x288 with 2 Axes>"
      ]
     },
     "metadata": {},
     "output_type": "display_data"
    }
   ],
   "source": [
    "sns.heatmap(X.corr(), annot = True)"
   ]
  },
  {
   "cell_type": "code",
   "execution_count": 486,
   "metadata": {},
   "outputs": [
    {
     "data": {
      "image/png": "[encoded data removed]",
      "text/plain": [
       "<Figure size 1080x1080 with 42 Axes>"
      ]
     },
     "metadata": {},
     "output_type": "display_data"
    }
   ],
   "source": [
    "sns.set()\n",
    "sns.pairplot(X)\n",
    "plt.show();"
   ]
  },
  {
   "cell_type": "markdown",
   "metadata": {},
   "source": [
    "t-test\n",
    "===\n",
    "### The main actor of production of the film will influence whether or not it is a hit. "
   ]
  },
  {
   "cell_type": "code",
   "execution_count": 487,
   "metadata": {},
   "outputs": [],
   "source": [
    "award_actor = movies[movies.award_actor == 1] \n",
    "no_award_actor = movies[movies.award_actor == 0] "
   ]
  },
  {
   "cell_type": "code",
   "execution_count": 488,
   "metadata": {},
   "outputs": [],
   "source": [
    "from scipy.stats import ttest_ind"
   ]
  },
  {
   "cell_type": "code",
   "execution_count": 496,
   "metadata": {},
   "outputs": [
    {
     "data": {
      "text/plain": [
       "143843.1659637807"
      ]
     },
     "execution_count": 496,
     "metadata": {},
     "output_type": "execute_result"
    }
   ],
   "source": [
    "no_award_actor['audience'].mean()"
   ]
  },
  {
   "cell_type": "code",
   "execution_count": 497,
   "metadata": {},
   "outputs": [
    {
     "data": {
      "text/plain": [
       "1950042.6431718061"
      ]
     },
     "execution_count": 497,
     "metadata": {},
     "output_type": "execute_result"
    }
   ],
   "source": [
    "award_actor['audience'].mean()"
   ]
  },
  {
   "cell_type": "code",
   "execution_count": 505,
   "metadata": {},
   "outputs": [
    {
     "name": "stdout",
     "output_type": "stream",
     "text": [
      "ttest -23.71602986778551\n",
      "p-value 6.944384391581895e-117\n",
      "we reject null hypothesis\n"
     ]
    }
   ],
   "source": [
    "ttest,pval = ttest_ind(no_award_actor['audience'], award_actor['audience'])\n",
    "print(\"ttest\", ttest)\n",
    "print(\"p-value\",pval)\n",
    "\n",
    "if pval <0.05:\n",
    "    print(\"we reject null hypothesis\")\n",
    "else:\n",
    "    print(\"we fail to reject (accept) null hypothesis\")"
   ]
  },
  {
   "cell_type": "markdown",
   "metadata": {},
   "source": [
    "t-test\n",
    "===\n",
    "### The director of production of the film will influence whether or not it is a hit."
   ]
  },
  {
   "cell_type": "code",
   "execution_count": 490,
   "metadata": {},
   "outputs": [],
   "source": [
    "award_directed = movies[movies.award_directed == 1] \n",
    "no_award_directed = movies[movies.award_directed == 0] "
   ]
  },
  {
   "cell_type": "code",
   "execution_count": 499,
   "metadata": {},
   "outputs": [
    {
     "data": {
      "text/plain": [
       "552224.0337552743"
      ]
     },
     "execution_count": 499,
     "metadata": {},
     "output_type": "execute_result"
    }
   ],
   "source": [
    "award_directed['audience'].mean()"
   ]
  },
  {
   "cell_type": "code",
   "execution_count": 500,
   "metadata": {},
   "outputs": [
    {
     "data": {
      "text/plain": [
       "221739.4643123601"
      ]
     },
     "execution_count": 500,
     "metadata": {},
     "output_type": "execute_result"
    }
   ],
   "source": [
    "no_award_directed['audience'].mean()"
   ]
  },
  {
   "cell_type": "code",
   "execution_count": 491,
   "metadata": {},
   "outputs": [
    {
     "name": "stdout",
     "output_type": "stream",
     "text": [
      "ttest 4.17044174786021\n",
      "p-value 3.100643900701116e-05\n",
      "we reject null hypothesis\n"
     ]
    }
   ],
   "source": [
    "ttest,pval = ttest_ind(award_directed['audience'], no_award_directed['audience'])\n",
    "print(\"ttest\", ttest)\n",
    "print(\"p-value\",pval)\n",
    "\n",
    "if pval <0.05:\n",
    "    print(\"we reject null hypothesis\")\n",
    "else:\n",
    "    print(\"we fail to reject (accept) null hypothesis\")"
   ]
  },
  {
   "cell_type": "markdown",
   "metadata": {},
   "source": [
    "t-test\n",
    "===\n",
    "### The Award(movies) of production of the film will influence whether or not it is a hit. "
   ]
  },
  {
   "cell_type": "code",
   "execution_count": 493,
   "metadata": {},
   "outputs": [],
   "source": [
    "award_movies = movies[movies.award_title == 1] \n",
    "no_award_movies = movies[movies.award_title == 0]"
   ]
  },
  {
   "cell_type": "code",
   "execution_count": 501,
   "metadata": {},
   "outputs": [
    {
     "data": {
      "text/plain": [
       "215959.97368421053"
      ]
     },
     "execution_count": 501,
     "metadata": {},
     "output_type": "execute_result"
    }
   ],
   "source": [
    "award_movies['audience'].mean()"
   ]
  },
  {
   "cell_type": "code",
   "execution_count": 502,
   "metadata": {},
   "outputs": [
    {
     "data": {
      "text/plain": [
       "240573.53515064562"
      ]
     },
     "execution_count": 502,
     "metadata": {},
     "output_type": "execute_result"
    }
   ],
   "source": [
    "no_award_movies['audience'].mean()"
   ]
  },
  {
   "cell_type": "code",
   "execution_count": 494,
   "metadata": {},
   "outputs": [
    {
     "name": "stdout",
     "output_type": "stream",
     "text": [
      "ttest -0.17901069581011433\n",
      "p-value 0.8579378241906349\n",
      "we fail to reject (accept) null hypothesis\n"
     ]
    }
   ],
   "source": [
    "ttest,pval = ttest_ind(award_movies['audience'], no_award_movies['audience'])\n",
    "print(\"ttest\", ttest)\n",
    "print(\"p-value\",pval)\n",
    "\n",
    "if pval <0.05:\n",
    "    print(\"we reject null hypothesis\")\n",
    "else:\n",
    "    print(\"we fail to reject (accept) null hypothesis\")"
   ]
  },
  {
   "cell_type": "markdown",
   "metadata": {},
   "source": [
    "ANOVA test\n",
    "===\n",
    "### nation"
   ]
  },
  {
   "cell_type": "code",
   "execution_count": 506,
   "metadata": {},
   "outputs": [],
   "source": [
    "nation_group1 = movies.loc[movies['nation'] == '한국',['audience']]\n",
    "nation_group2 = movies.loc[movies['nation'] == '해외',['audience']]"
   ]
  },
  {
   "cell_type": "code",
   "execution_count": 507,
   "metadata": {},
   "outputs": [],
   "source": [
    "nation_group1 = np.array(nation_group1.audience)\n",
    "nation_group2 = np.array(nation_group2.audience)"
   ]
  },
  {
   "cell_type": "code",
   "execution_count": 508,
   "metadata": {},
   "outputs": [
    {
     "data": {
      "image/png": "[encoded data removed]",
      "text/plain": [
       "<Figure size 432x288 with 1 Axes>"
      ]
     },
     "metadata": {},
     "output_type": "display_data"
    }
   ],
   "source": [
    "plot_data = [nation_group1, nation_group2]\n",
    "ax = plt.boxplot(plot_data)\n",
    "plt.show()"
   ]
  },
  {
   "cell_type": "code",
   "execution_count": 509,
   "metadata": {},
   "outputs": [],
   "source": [
    "import scipy.stats as stats\n",
    "import pandas as pd\n",
    "import urllib\n",
    "from statsmodels.formula.api import ols\n",
    "from statsmodels.stats.anova import anova_lm\n",
    "import matplotlib.pyplot as plt\n",
    "import numpy as np\n",
    "%matplotlib inline"
   ]
  },
  {
   "cell_type": "code",
   "execution_count": 512,
   "metadata": {},
   "outputs": [
    {
     "name": "stdout",
     "output_type": "stream",
     "text": [
      "ANOVA Results : F=55.5, p=0.000000000000114\n",
      "we reject null hypothesis\n"
     ]
    }
   ],
   "source": [
    "F_statistic, pVal = stats.f_oneway(nation_group1, nation_group2)\n",
    "\n",
    "print('ANOVA Results : F={0:.1f}, p={1:.15f}'.format(F_statistic, pVal))\n",
    "    \n",
    "if pVal <0.05:\n",
    "    print(\"we reject null hypothesis\")\n",
    "else:\n",
    "    print(\"we fail to reject (accept) null hypothesis\")"
   ]
  },
  {
   "cell_type": "markdown",
   "metadata": {},
   "source": [
    "Decision Tree\n",
    "==="
   ]
  },
  {
   "cell_type": "code",
   "execution_count": 625,
   "metadata": {},
   "outputs": [],
   "source": [
    "movies['label'] = 'na'\n",
    "\n",
    "no_hit = movies['audience'] < 10000000 \n",
    "movies.loc[no_hit,'label'] = 0\n",
    "\n",
    "hit = movies['audience'] >= 10000000 \n",
    "movies.loc[hit,'label'] = 1"
   ]
  },
  {
   "cell_type": "code",
   "execution_count": 630,
   "metadata": {},
   "outputs": [],
   "source": [
    "X2 = X.drop('audience', axis=1)"
   ]
  },
  {
   "cell_type": "code",
   "execution_count": 631,
   "metadata": {},
   "outputs": [],
   "source": [
    "X2 = X2.drop('sales', axis=1)"
   ]
  },
  {
   "cell_type": "code",
   "execution_count": 632,
   "metadata": {},
   "outputs": [
    {
     "data": {
      "text/html": [
       "<div>\n",
       "<style scoped>\n",
       "    .dataframe tbody tr th:only-of-type {\n",
       "        vertical-align: middle;\n",
       "    }\n",
       "\n",
       "    .dataframe tbody tr th {\n",
       "        vertical-align: top;\n",
       "    }\n",
       "\n",
       "    .dataframe thead th {\n",
       "        text-align: right;\n",
       "    }\n",
       "</style>\n",
       "<table border=\"1\" class=\"dataframe\">\n",
       "  <thead>\n",
       "    <tr style=\"text-align: right;\">\n",
       "      <th></th>\n",
       "      <th>nation_type</th>\n",
       "      <th>award_directed</th>\n",
       "      <th>award_title</th>\n",
       "      <th>award_actor</th>\n",
       "    </tr>\n",
       "  </thead>\n",
       "  <tbody>\n",
       "    <tr>\n",
       "      <th>0</th>\n",
       "      <td>0</td>\n",
       "      <td>0.0</td>\n",
       "      <td>0.0</td>\n",
       "      <td>1.0</td>\n",
       "    </tr>\n",
       "    <tr>\n",
       "      <th>1</th>\n",
       "      <td>1</td>\n",
       "      <td>0.0</td>\n",
       "      <td>0.0</td>\n",
       "      <td>0.0</td>\n",
       "    </tr>\n",
       "    <tr>\n",
       "      <th>2</th>\n",
       "      <td>1</td>\n",
       "      <td>0.0</td>\n",
       "      <td>0.0</td>\n",
       "      <td>0.0</td>\n",
       "    </tr>\n",
       "    <tr>\n",
       "      <th>3</th>\n",
       "      <td>0</td>\n",
       "      <td>1.0</td>\n",
       "      <td>0.0</td>\n",
       "      <td>0.0</td>\n",
       "    </tr>\n",
       "    <tr>\n",
       "      <th>4</th>\n",
       "      <td>1</td>\n",
       "      <td>1.0</td>\n",
       "      <td>1.0</td>\n",
       "      <td>1.0</td>\n",
       "    </tr>\n",
       "    <tr>\n",
       "      <th>...</th>\n",
       "      <td>...</td>\n",
       "      <td>...</td>\n",
       "      <td>...</td>\n",
       "      <td>...</td>\n",
       "    </tr>\n",
       "    <tr>\n",
       "      <th>4253</th>\n",
       "      <td>1</td>\n",
       "      <td>0.0</td>\n",
       "      <td>0.0</td>\n",
       "      <td>0.0</td>\n",
       "    </tr>\n",
       "    <tr>\n",
       "      <th>4254</th>\n",
       "      <td>0</td>\n",
       "      <td>0.0</td>\n",
       "      <td>0.0</td>\n",
       "      <td>0.0</td>\n",
       "    </tr>\n",
       "    <tr>\n",
       "      <th>4255</th>\n",
       "      <td>1</td>\n",
       "      <td>0.0</td>\n",
       "      <td>0.0</td>\n",
       "      <td>0.0</td>\n",
       "    </tr>\n",
       "    <tr>\n",
       "      <th>4256</th>\n",
       "      <td>1</td>\n",
       "      <td>0.0</td>\n",
       "      <td>0.0</td>\n",
       "      <td>0.0</td>\n",
       "    </tr>\n",
       "    <tr>\n",
       "      <th>4257</th>\n",
       "      <td>0</td>\n",
       "      <td>0.0</td>\n",
       "      <td>0.0</td>\n",
       "      <td>0.0</td>\n",
       "    </tr>\n",
       "  </tbody>\n",
       "</table>\n",
       "<p>4258 rows × 4 columns</p>\n",
       "</div>"
      ],
      "text/plain": [
       "      nation_type  award_directed  award_title  award_actor\n",
       "0               0             0.0          0.0          1.0\n",
       "1               1             0.0          0.0          0.0\n",
       "2               1             0.0          0.0          0.0\n",
       "3               0             1.0          0.0          0.0\n",
       "4               1             1.0          1.0          1.0\n",
       "...           ...             ...          ...          ...\n",
       "4253            1             0.0          0.0          0.0\n",
       "4254            0             0.0          0.0          0.0\n",
       "4255            1             0.0          0.0          0.0\n",
       "4256            1             0.0          0.0          0.0\n",
       "4257            0             0.0          0.0          0.0\n",
       "\n",
       "[4258 rows x 4 columns]"
      ]
     },
     "execution_count": 632,
     "metadata": {},
     "output_type": "execute_result"
    }
   ],
   "source": [
    "X2"
   ]
  },
  {
   "cell_type": "code",
   "execution_count": 633,
   "metadata": {},
   "outputs": [
    {
     "name": "stdout",
     "output_type": "stream",
     "text": [
      "<class 'pandas.core.frame.DataFrame'>\n",
      "Int64Index: 4258 entries, 0 to 4257\n",
      "Data columns (total 4 columns):\n",
      "nation_type       4258 non-null int64\n",
      "award_directed    4258 non-null float64\n",
      "award_title       4258 non-null float64\n",
      "award_actor       4258 non-null float64\n",
      "dtypes: float64(3), int64(1)\n",
      "memory usage: 294.3 KB\n"
     ]
    }
   ],
   "source": [
    "X2.info()"
   ]
  },
  {
   "cell_type": "code",
   "execution_count": 634,
   "metadata": {},
   "outputs": [
    {
     "data": {
      "text/plain": [
       "0    0\n",
       "1    0\n",
       "2    0\n",
       "3    0\n",
       "4    0\n",
       "Name: label, dtype: int64"
      ]
     },
     "execution_count": 634,
     "metadata": {},
     "output_type": "execute_result"
    }
   ],
   "source": [
    "y = movies[\"label\"]\n",
    "y.head()"
   ]
  },
  {
   "cell_type": "code",
   "execution_count": 650,
   "metadata": {},
   "outputs": [],
   "source": [
    "from sklearn.model_selection import train_test_split\n",
    "X2_train, X2_test, y_train, y_test = train_test_split(X2, y, test_size=0.3, random_state=1) "
   ]
  },
  {
   "cell_type": "code",
   "execution_count": 651,
   "metadata": {},
   "outputs": [
    {
     "data": {
      "text/plain": [
       "DecisionTreeRegressor(criterion='mse', max_depth=None, max_features=None,\n",
       "                      max_leaf_nodes=None, min_impurity_decrease=0.0,\n",
       "                      min_impurity_split=None, min_samples_leaf=1,\n",
       "                      min_samples_split=2, min_weight_fraction_leaf=0.0,\n",
       "                      presort=False, random_state=1, splitter='best')"
      ]
     },
     "execution_count": 651,
     "metadata": {},
     "output_type": "execute_result"
    }
   ],
   "source": [
    "from sklearn.tree import DecisionTreeRegressor\n",
    "treereg = DecisionTreeRegressor(random_state=1)\n",
    "treereg.fit(X2_train, y_train)"
   ]
  },
  {
   "cell_type": "code",
   "execution_count": 652,
   "metadata": {},
   "outputs": [
    {
     "name": "stdout",
     "output_type": "stream",
     "text": [
      "[0.00217391 0.07407407 0.04347826 ... 0.00217391 0.00217391 0.00217391]\n",
      "1937    0\n",
      "1856    0\n",
      "219     0\n",
      "368     0\n",
      "719     0\n",
      "       ..\n",
      "3932    0\n",
      "572     0\n",
      "1724    0\n",
      "1891    0\n",
      "3063    0\n",
      "Name: label, Length: 1278, dtype: int64\n"
     ]
    }
   ],
   "source": [
    "preds = treereg.predict(X2_test)\n",
    "\n",
    "print(preds) \n",
    "print(y_test) "
   ]
  },
  {
   "cell_type": "code",
   "execution_count": 653,
   "metadata": {},
   "outputs": [
    {
     "data": {
      "text/plain": [
       "0.061794862484547575"
      ]
     },
     "execution_count": 653,
     "metadata": {},
     "output_type": "execute_result"
    }
   ],
   "source": [
    "from sklearn import metrics\n",
    "import numpy as np\n",
    "\n",
    "np.sqrt(metrics.mean_squared_error(y_test, preds)) "
   ]
  },
  {
   "cell_type": "code",
   "execution_count": 654,
   "metadata": {},
   "outputs": [],
   "source": [
    "from sklearn.model_selection import cross_val_score"
   ]
  },
  {
   "cell_type": "code",
   "execution_count": 655,
   "metadata": {},
   "outputs": [
    {
     "data": {
      "text/plain": [
       "0.06464575468755512"
      ]
     },
     "execution_count": 655,
     "metadata": {},
     "output_type": "execute_result"
    }
   ],
   "source": [
    "# try max_depth=2\n",
    "treereg = DecisionTreeRegressor(max_depth=2, random_state=1)\n",
    "scores = cross_val_score(treereg, X2, y, cv=3, scoring='neg_mean_squared_error')\n",
    "np.mean(np.sqrt(-scores))"
   ]
  },
  {
   "cell_type": "code",
   "execution_count": 656,
   "metadata": {},
   "outputs": [
    {
     "data": {
      "text/plain": [
       "0.06469813217667765"
      ]
     },
     "execution_count": 656,
     "metadata": {},
     "output_type": "execute_result"
    }
   ],
   "source": [
    "# try max_depth=3\n",
    "treereg = DecisionTreeRegressor(max_depth=3, random_state=1)\n",
    "scores = cross_val_score(treereg, X2, y, cv=3, scoring='neg_mean_squared_error')\n",
    "np.mean(np.sqrt(-scores))"
   ]
  },
  {
   "cell_type": "code",
   "execution_count": 657,
   "metadata": {},
   "outputs": [
    {
     "data": {
      "text/plain": [
       "0.0647221516083835"
      ]
     },
     "execution_count": 657,
     "metadata": {},
     "output_type": "execute_result"
    }
   ],
   "source": [
    "# try max_depth=4\n",
    "treereg = DecisionTreeRegressor(max_depth=4, random_state=1)\n",
    "scores = cross_val_score(treereg, X2, y, cv=3, scoring='neg_mean_squared_error')\n",
    "np.mean(np.sqrt(-scores))"
   ]
  },
  {
   "cell_type": "markdown",
   "metadata": {},
   "source": [
    "### max_depth=2 was best, so fit a tree using that parameter with ALL DATA"
   ]
  },
  {
   "cell_type": "code",
   "execution_count": 658,
   "metadata": {},
   "outputs": [
    {
     "data": {
      "text/plain": [
       "DecisionTreeRegressor(criterion='mse', max_depth=2, max_features=None,\n",
       "                      max_leaf_nodes=None, min_impurity_decrease=0.0,\n",
       "                      min_impurity_split=None, min_samples_leaf=1,\n",
       "                      min_samples_split=2, min_weight_fraction_leaf=0.0,\n",
       "                      presort=False, random_state=1, splitter='best')"
      ]
     },
     "execution_count": 658,
     "metadata": {},
     "output_type": "execute_result"
    }
   ],
   "source": [
    "treereg = DecisionTreeRegressor(max_depth=2, random_state=1)\n",
    "treereg.fit(X2, y)"
   ]
  },
  {
   "cell_type": "code",
   "execution_count": 661,
   "metadata": {},
   "outputs": [],
   "source": [
    "feature_cols =  [\"nation_type\", \"award_directed\", \"award_title\", \"award_actor\"]"
   ]
  },
  {
   "cell_type": "code",
   "execution_count": 662,
   "metadata": {},
   "outputs": [
    {
     "data": {
      "text/html": [
       "<div>\n",
       "<style scoped>\n",
       "    .dataframe tbody tr th:only-of-type {\n",
       "        vertical-align: middle;\n",
       "    }\n",
       "\n",
       "    .dataframe tbody tr th {\n",
       "        vertical-align: top;\n",
       "    }\n",
       "\n",
       "    .dataframe thead th {\n",
       "        text-align: right;\n",
       "    }\n",
       "</style>\n",
       "<table border=\"1\" class=\"dataframe\">\n",
       "  <thead>\n",
       "    <tr style=\"text-align: right;\">\n",
       "      <th></th>\n",
       "      <th>feature</th>\n",
       "      <th>importance</th>\n",
       "    </tr>\n",
       "  </thead>\n",
       "  <tbody>\n",
       "    <tr>\n",
       "      <th>0</th>\n",
       "      <td>nation_type</td>\n",
       "      <td>0.374196</td>\n",
       "    </tr>\n",
       "    <tr>\n",
       "      <th>1</th>\n",
       "      <td>award_directed</td>\n",
       "      <td>0.016614</td>\n",
       "    </tr>\n",
       "    <tr>\n",
       "      <th>2</th>\n",
       "      <td>award_title</td>\n",
       "      <td>0.000000</td>\n",
       "    </tr>\n",
       "    <tr>\n",
       "      <th>3</th>\n",
       "      <td>award_actor</td>\n",
       "      <td>0.609190</td>\n",
       "    </tr>\n",
       "  </tbody>\n",
       "</table>\n",
       "</div>"
      ],
      "text/plain": [
       "          feature  importance\n",
       "0     nation_type    0.374196\n",
       "1  award_directed    0.016614\n",
       "2     award_title    0.000000\n",
       "3     award_actor    0.609190"
      ]
     },
     "execution_count": 662,
     "metadata": {},
     "output_type": "execute_result"
    }
   ],
   "source": [
    "pd.DataFrame({'feature':feature_cols, 'importance':treereg.feature_importances_})"
   ]
  },
  {
   "cell_type": "markdown",
   "metadata": {},
   "source": [
    "### highwaympg is importance."
   ]
  },
  {
   "cell_type": "code",
   "execution_count": 663,
   "metadata": {},
   "outputs": [],
   "source": [
    "from sklearn.tree import export_graphviz\n",
    "with open(\"CarPrice_Assignment.dot\", 'w') as f:\n",
    "    f = export_graphviz(treereg, out_file=f, feature_names=feature_cols)"
   ]
  },
  {
   "cell_type": "code",
   "execution_count": 664,
   "metadata": {},
   "outputs": [
    {
     "data": {
      "image/svg+xml": [
       "<?xml version=\"1.0\" encoding=\"UTF-8\" standalone=\"no\"?>\r\n",
       "<!DOCTYPE svg PUBLIC \"-//W3C//DTD SVG 1.1//EN\"\r\n",
       " \"http://www.w3.org/Graphics/SVG/1.1/DTD/svg11.dtd\">\r\n",
       "<!-- Generated by graphviz version 2.38.0 (20140413.2041)\r\n",
       " -->\r\n",
       "<!-- Title: Tree Pages: 1 -->\r\n",
       "<svg width=\"472pt\" height=\"269pt\"\r\n",
       " viewBox=\"0.00 0.00 471.50 269.00\" xmlns=\"http://www.w3.org/2000/svg\" xmlns:xlink=\"http://www.w3.org/1999/xlink\">\r\n",
       "<g id=\"graph0\" class=\"graph\" transform=\"scale(1 1) rotate(0) translate(4 265)\">\r\n",
       "<title>Tree</title>\r\n",
       "<polygon fill=\"white\" stroke=\"none\" points=\"-4,4 -4,-265 467.5,-265 467.5,4 -4,4\"/>\r\n",
       "<!-- 0 -->\r\n",
       "<g id=\"node1\" class=\"node\"><title>0</title>\r\n",
       "<polygon fill=\"none\" stroke=\"black\" points=\"302,-261 174,-261 174,-193 302,-193 302,-261\"/>\r\n",
       "<text text-anchor=\"middle\" x=\"238\" y=\"-245.8\" font-family=\"Times New Roman,serif\" font-size=\"14.00\">award_actor &lt;= 0.5</text>\r\n",
       "<text text-anchor=\"middle\" x=\"238\" y=\"-230.8\" font-family=\"Times New Roman,serif\" font-size=\"14.00\">mse = 0.005</text>\r\n",
       "<text text-anchor=\"middle\" x=\"238\" y=\"-215.8\" font-family=\"Times New Roman,serif\" font-size=\"14.00\">samples = 4258</text>\r\n",
       "<text text-anchor=\"middle\" x=\"238\" y=\"-200.8\" font-family=\"Times New Roman,serif\" font-size=\"14.00\">value = 0.005</text>\r\n",
       "</g>\r\n",
       "<!-- 1 -->\r\n",
       "<g id=\"node2\" class=\"node\"><title>1</title>\r\n",
       "<polygon fill=\"none\" stroke=\"black\" points=\"234,-157 90,-157 90,-89 234,-89 234,-157\"/>\r\n",
       "<text text-anchor=\"middle\" x=\"162\" y=\"-141.8\" font-family=\"Times New Roman,serif\" font-size=\"14.00\">award_directed &lt;= 0.5</text>\r\n",
       "<text text-anchor=\"middle\" x=\"162\" y=\"-126.8\" font-family=\"Times New Roman,serif\" font-size=\"14.00\">mse = 0.002</text>\r\n",
       "<text text-anchor=\"middle\" x=\"162\" y=\"-111.8\" font-family=\"Times New Roman,serif\" font-size=\"14.00\">samples = 4031</text>\r\n",
       "<text text-anchor=\"middle\" x=\"162\" y=\"-96.8\" font-family=\"Times New Roman,serif\" font-size=\"14.00\">value = 0.002</text>\r\n",
       "</g>\r\n",
       "<!-- 0&#45;&gt;1 -->\r\n",
       "<g id=\"edge1\" class=\"edge\"><title>0&#45;&gt;1</title>\r\n",
       "<path fill=\"none\" stroke=\"black\" d=\"M213.325,-192.884C206.821,-184.154 199.72,-174.625 192.932,-165.514\"/>\r\n",
       "<polygon fill=\"black\" stroke=\"black\" points=\"195.593,-163.227 186.811,-157.299 189.98,-167.409 195.593,-163.227\"/>\r\n",
       "<text text-anchor=\"middle\" x=\"183.198\" y=\"-178.337\" font-family=\"Times New Roman,serif\" font-size=\"14.00\">True</text>\r\n",
       "</g>\r\n",
       "<!-- 4 -->\r\n",
       "<g id=\"node5\" class=\"node\"><title>4</title>\r\n",
       "<polygon fill=\"none\" stroke=\"black\" points=\"375.5,-157 252.5,-157 252.5,-89 375.5,-89 375.5,-157\"/>\r\n",
       "<text text-anchor=\"middle\" x=\"314\" y=\"-141.8\" font-family=\"Times New Roman,serif\" font-size=\"14.00\">nation_type &lt;= 0.5</text>\r\n",
       "<text text-anchor=\"middle\" x=\"314\" y=\"-126.8\" font-family=\"Times New Roman,serif\" font-size=\"14.00\">mse = 0.046</text>\r\n",
       "<text text-anchor=\"middle\" x=\"314\" y=\"-111.8\" font-family=\"Times New Roman,serif\" font-size=\"14.00\">samples = 227</text>\r\n",
       "<text text-anchor=\"middle\" x=\"314\" y=\"-96.8\" font-family=\"Times New Roman,serif\" font-size=\"14.00\">value = 0.048</text>\r\n",
       "</g>\r\n",
       "<!-- 0&#45;&gt;4 -->\r\n",
       "<g id=\"edge4\" class=\"edge\"><title>0&#45;&gt;4</title>\r\n",
       "<path fill=\"none\" stroke=\"black\" d=\"M262.675,-192.884C269.179,-184.154 276.28,-174.625 283.068,-165.514\"/>\r\n",
       "<polygon fill=\"black\" stroke=\"black\" points=\"286.02,-167.409 289.189,-157.299 280.407,-163.227 286.02,-167.409\"/>\r\n",
       "<text text-anchor=\"middle\" x=\"292.802\" y=\"-178.337\" font-family=\"Times New Roman,serif\" font-size=\"14.00\">False</text>\r\n",
       "</g>\r\n",
       "<!-- 2 -->\r\n",
       "<g id=\"node3\" class=\"node\"><title>2</title>\r\n",
       "<polygon fill=\"none\" stroke=\"black\" points=\"104,-53 0,-53 0,-0 104,-0 104,-53\"/>\r\n",
       "<text text-anchor=\"middle\" x=\"52\" y=\"-37.8\" font-family=\"Times New Roman,serif\" font-size=\"14.00\">mse = 0.002</text>\r\n",
       "<text text-anchor=\"middle\" x=\"52\" y=\"-22.8\" font-family=\"Times New Roman,serif\" font-size=\"14.00\">samples = 3836</text>\r\n",
       "<text text-anchor=\"middle\" x=\"52\" y=\"-7.8\" font-family=\"Times New Roman,serif\" font-size=\"14.00\">value = 0.002</text>\r\n",
       "</g>\r\n",
       "<!-- 1&#45;&gt;2 -->\r\n",
       "<g id=\"edge2\" class=\"edge\"><title>1&#45;&gt;2</title>\r\n",
       "<path fill=\"none\" stroke=\"black\" d=\"M123.527,-88.9485C112.559,-79.526 100.625,-69.2731 89.7033,-59.8906\"/>\r\n",
       "<polygon fill=\"black\" stroke=\"black\" points=\"91.8241,-57.0983 81.9581,-53.2367 87.2626,-62.408 91.8241,-57.0983\"/>\r\n",
       "</g>\r\n",
       "<!-- 3 -->\r\n",
       "<g id=\"node4\" class=\"node\"><title>3</title>\r\n",
       "<polygon fill=\"none\" stroke=\"black\" points=\"220,-53 122,-53 122,-0 220,-0 220,-53\"/>\r\n",
       "<text text-anchor=\"middle\" x=\"171\" y=\"-37.8\" font-family=\"Times New Roman,serif\" font-size=\"14.00\">mse = 0.01</text>\r\n",
       "<text text-anchor=\"middle\" x=\"171\" y=\"-22.8\" font-family=\"Times New Roman,serif\" font-size=\"14.00\">samples = 195</text>\r\n",
       "<text text-anchor=\"middle\" x=\"171\" y=\"-7.8\" font-family=\"Times New Roman,serif\" font-size=\"14.00\">value = 0.01</text>\r\n",
       "</g>\r\n",
       "<!-- 1&#45;&gt;3 -->\r\n",
       "<g id=\"edge3\" class=\"edge\"><title>1&#45;&gt;3</title>\r\n",
       "<path fill=\"none\" stroke=\"black\" d=\"M165.148,-88.9485C165.941,-80.6238 166.795,-71.6509 167.6,-63.2027\"/>\r\n",
       "<polygon fill=\"black\" stroke=\"black\" points=\"171.085,-63.5235 168.549,-53.2367 164.116,-62.8598 171.085,-63.5235\"/>\r\n",
       "</g>\r\n",
       "<!-- 5 -->\r\n",
       "<g id=\"node6\" class=\"node\"><title>5</title>\r\n",
       "<polygon fill=\"none\" stroke=\"black\" points=\"354,-53 256,-53 256,-0 354,-0 354,-53\"/>\r\n",
       "<text text-anchor=\"middle\" x=\"305\" y=\"-37.8\" font-family=\"Times New Roman,serif\" font-size=\"14.00\">mse = 0.068</text>\r\n",
       "<text text-anchor=\"middle\" x=\"305\" y=\"-22.8\" font-family=\"Times New Roman,serif\" font-size=\"14.00\">samples = 149</text>\r\n",
       "<text text-anchor=\"middle\" x=\"305\" y=\"-7.8\" font-family=\"Times New Roman,serif\" font-size=\"14.00\">value = 0.074</text>\r\n",
       "</g>\r\n",
       "<!-- 4&#45;&gt;5 -->\r\n",
       "<g id=\"edge5\" class=\"edge\"><title>4&#45;&gt;5</title>\r\n",
       "<path fill=\"none\" stroke=\"black\" d=\"M310.852,-88.9485C310.059,-80.6238 309.205,-71.6509 308.4,-63.2027\"/>\r\n",
       "<polygon fill=\"black\" stroke=\"black\" points=\"311.884,-62.8598 307.451,-53.2367 304.915,-63.5235 311.884,-62.8598\"/>\r\n",
       "</g>\r\n",
       "<!-- 6 -->\r\n",
       "<g id=\"node7\" class=\"node\"><title>6</title>\r\n",
       "<polygon fill=\"none\" stroke=\"black\" points=\"463.5,-53 372.5,-53 372.5,-0 463.5,-0 463.5,-53\"/>\r\n",
       "<text text-anchor=\"middle\" x=\"418\" y=\"-37.8\" font-family=\"Times New Roman,serif\" font-size=\"14.00\">mse = 0.0</text>\r\n",
       "<text text-anchor=\"middle\" x=\"418\" y=\"-22.8\" font-family=\"Times New Roman,serif\" font-size=\"14.00\">samples = 78</text>\r\n",
       "<text text-anchor=\"middle\" x=\"418\" y=\"-7.8\" font-family=\"Times New Roman,serif\" font-size=\"14.00\">value = 0.0</text>\r\n",
       "</g>\r\n",
       "<!-- 4&#45;&gt;6 -->\r\n",
       "<g id=\"edge6\" class=\"edge\"><title>4&#45;&gt;6</title>\r\n",
       "<path fill=\"none\" stroke=\"black\" d=\"M350.374,-88.9485C360.643,-79.6175 371.808,-69.4722 382.052,-60.1641\"/>\r\n",
       "<polygon fill=\"black\" stroke=\"black\" points=\"384.629,-62.5521 389.676,-53.2367 379.921,-57.3713 384.629,-62.5521\"/>\r\n",
       "</g>\r\n",
       "</g>\r\n",
       "</svg>\r\n"
      ],
      "text/plain": [
       "<graphviz.files.Source at 0x1a0a93b0>"
      ]
     },
     "metadata": {},
     "output_type": "display_data"
    }
   ],
   "source": [
    "import graphviz\n",
    "\n",
    "with open(\"CarPrice_Assignment.dot\") as f:\n",
    "    dot_graph = f.read()\n",
    "display(graphviz.Source(dot_graph))"
   ]
  },
  {
   "cell_type": "code",
   "execution_count": null,
   "metadata": {},
   "outputs": [],
   "source": []
  }
 ],
 "metadata": {
  "kernelspec": {
   "display_name": "Python 3",
   "language": "python",
   "name": "python3"
  },
  "language_info": {
   "codemirror_mode": {
    "name": "ipython",
    "version": 3
   },
   "file_extension": ".py",
   "mimetype": "text/x-python",
   "name": "python",
   "nbconvert_exporter": "python",
   "pygments_lexer": "ipython3",
   "version": "3.6.4"
  }
 },
 "nbformat": 4,
 "nbformat_minor": 2
}
